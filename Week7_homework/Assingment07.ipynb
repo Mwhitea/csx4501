{
 "cells": [
  {
   "cell_type": "code",
   "execution_count": null,
   "id": "15ef3ed3-e98b-4b34-80ce-bdcd91543f7c",
   "metadata": {},
   "outputs": [],
   "source": []
  },
  {
   "cell_type": "code",
   "execution_count": 2,
   "id": "62db8a60-c7a7-4f00-aaa5-a465da25ec9f",
   "metadata": {},
   "outputs": [
    {
     "data": {
      "text/plain": [
       "{'data':           age       sex       bmi        bp        s1        s2        s3  \\\n",
       " 0    0.038076  0.050680  0.061696  0.021872 -0.044223 -0.034821 -0.043401   \n",
       " 1   -0.001882 -0.044642 -0.051474 -0.026328 -0.008449 -0.019163  0.074412   \n",
       " 2    0.085299  0.050680  0.044451 -0.005671 -0.045599 -0.034194 -0.032356   \n",
       " 3   -0.089063 -0.044642 -0.011595 -0.036656  0.012191  0.024991 -0.036038   \n",
       " 4    0.005383 -0.044642 -0.036385  0.021872  0.003935  0.015596  0.008142   \n",
       " ..        ...       ...       ...       ...       ...       ...       ...   \n",
       " 437  0.041708  0.050680  0.019662  0.059744 -0.005697 -0.002566 -0.028674   \n",
       " 438 -0.005515  0.050680 -0.015906 -0.067642  0.049341  0.079165 -0.028674   \n",
       " 439  0.041708  0.050680 -0.015906  0.017282 -0.037344 -0.013840 -0.024993   \n",
       " 440 -0.045472 -0.044642  0.039062  0.001215  0.016318  0.015283 -0.028674   \n",
       " 441 -0.045472 -0.044642 -0.073030 -0.081414  0.083740  0.027809  0.173816   \n",
       " \n",
       "            s4        s5        s6  \n",
       " 0   -0.002592  0.019908 -0.017646  \n",
       " 1   -0.039493 -0.068330 -0.092204  \n",
       " 2   -0.002592  0.002864 -0.025930  \n",
       " 3    0.034309  0.022692 -0.009362  \n",
       " 4   -0.002592 -0.031991 -0.046641  \n",
       " ..        ...       ...       ...  \n",
       " 437 -0.002592  0.031193  0.007207  \n",
       " 438  0.034309 -0.018118  0.044485  \n",
       " 439 -0.011080 -0.046879  0.015491  \n",
       " 440  0.026560  0.044528 -0.025930  \n",
       " 441 -0.039493 -0.004220  0.003064  \n",
       " \n",
       " [442 rows x 10 columns],\n",
       " 'target': 0      151.0\n",
       " 1       75.0\n",
       " 2      141.0\n",
       " 3      206.0\n",
       " 4      135.0\n",
       "        ...  \n",
       " 437    178.0\n",
       " 438    104.0\n",
       " 439    132.0\n",
       " 440    220.0\n",
       " 441     57.0\n",
       " Name: target, Length: 442, dtype: float64,\n",
       " 'frame':           age       sex       bmi        bp        s1        s2        s3  \\\n",
       " 0    0.038076  0.050680  0.061696  0.021872 -0.044223 -0.034821 -0.043401   \n",
       " 1   -0.001882 -0.044642 -0.051474 -0.026328 -0.008449 -0.019163  0.074412   \n",
       " 2    0.085299  0.050680  0.044451 -0.005671 -0.045599 -0.034194 -0.032356   \n",
       " 3   -0.089063 -0.044642 -0.011595 -0.036656  0.012191  0.024991 -0.036038   \n",
       " 4    0.005383 -0.044642 -0.036385  0.021872  0.003935  0.015596  0.008142   \n",
       " ..        ...       ...       ...       ...       ...       ...       ...   \n",
       " 437  0.041708  0.050680  0.019662  0.059744 -0.005697 -0.002566 -0.028674   \n",
       " 438 -0.005515  0.050680 -0.015906 -0.067642  0.049341  0.079165 -0.028674   \n",
       " 439  0.041708  0.050680 -0.015906  0.017282 -0.037344 -0.013840 -0.024993   \n",
       " 440 -0.045472 -0.044642  0.039062  0.001215  0.016318  0.015283 -0.028674   \n",
       " 441 -0.045472 -0.044642 -0.073030 -0.081414  0.083740  0.027809  0.173816   \n",
       " \n",
       "            s4        s5        s6  target  \n",
       " 0   -0.002592  0.019908 -0.017646   151.0  \n",
       " 1   -0.039493 -0.068330 -0.092204    75.0  \n",
       " 2   -0.002592  0.002864 -0.025930   141.0  \n",
       " 3    0.034309  0.022692 -0.009362   206.0  \n",
       " 4   -0.002592 -0.031991 -0.046641   135.0  \n",
       " ..        ...       ...       ...     ...  \n",
       " 437 -0.002592  0.031193  0.007207   178.0  \n",
       " 438  0.034309 -0.018118  0.044485   104.0  \n",
       " 439 -0.011080 -0.046879  0.015491   132.0  \n",
       " 440  0.026560  0.044528 -0.025930   220.0  \n",
       " 441 -0.039493 -0.004220  0.003064    57.0  \n",
       " \n",
       " [442 rows x 11 columns],\n",
       " 'DESCR': '.. _diabetes_dataset:\\n\\nDiabetes dataset\\n----------------\\n\\nTen baseline variables, age, sex, body mass index, average blood\\npressure, and six blood serum measurements were obtained for each of n =\\n442 diabetes patients, as well as the response of interest, a\\nquantitative measure of disease progression one year after baseline.\\n\\n**Data Set Characteristics:**\\n\\n  :Number of Instances: 442\\n\\n  :Number of Attributes: First 10 columns are numeric predictive values\\n\\n  :Target: Column 11 is a quantitative measure of disease progression one year after baseline\\n\\n  :Attribute Information:\\n      - age     age in years\\n      - sex\\n      - bmi     body mass index\\n      - bp      average blood pressure\\n      - s1      tc, total serum cholesterol\\n      - s2      ldl, low-density lipoproteins\\n      - s3      hdl, high-density lipoproteins\\n      - s4      tch, total cholesterol / HDL\\n      - s5      ltg, possibly log of serum triglycerides level\\n      - s6      glu, blood sugar level\\n\\nNote: Each of these 10 feature variables have been mean centered and scaled by the standard deviation times `n_samples` (i.e. the sum of squares of each column totals 1).\\n\\nSource URL:\\nhttps://www4.stat.ncsu.edu/~boos/var.select/diabetes.html\\n\\nFor more information see:\\nBradley Efron, Trevor Hastie, Iain Johnstone and Robert Tibshirani (2004) \"Least Angle Regression,\" Annals of Statistics (with discussion), 407-499.\\n(https://web.stanford.edu/~hastie/Papers/LARS/LeastAngle_2002.pdf)',\n",
       " 'feature_names': ['age',\n",
       "  'sex',\n",
       "  'bmi',\n",
       "  'bp',\n",
       "  's1',\n",
       "  's2',\n",
       "  's3',\n",
       "  's4',\n",
       "  's5',\n",
       "  's6'],\n",
       " 'data_filename': 'C:\\\\Users\\\\patri\\\\anaconda3\\\\lib\\\\site-packages\\\\sklearn\\\\datasets\\\\data\\\\diabetes_data.csv.gz',\n",
       " 'target_filename': 'C:\\\\Users\\\\patri\\\\anaconda3\\\\lib\\\\site-packages\\\\sklearn\\\\datasets\\\\data\\\\diabetes_target.csv.gz'}"
      ]
     },
     "execution_count": 2,
     "metadata": {},
     "output_type": "execute_result"
    }
   ],
   "source": [
    "import numpy as np\n",
    "import matplotlib.pyplot as plt\n",
    "import seaborn as sns\n",
    "from sklearn.cluster import KMeans\n",
    "from sklearn import datasets\n",
    "from sklearn.pipeline import Pipeline\n",
    "from sklearn.preprocessing import PolynomialFeatures\n",
    "from sklearn.linear_model import LinearRegression\n",
    "from sklearn.model_selection import cross_val_score\n",
    "from scipy import spatial\n",
    "import ipywidgets\n",
    "import pandas as pd\n",
    "\n",
    "import pandas as pd\n",
    "from sklearn import datasets\n",
    "df = datasets.load_diabetes(as_frame=True) \n",
    "df"
   ]
  },
  {
   "cell_type": "code",
   "execution_count": null,
   "id": "49b335ff-2cb1-402e-840d-774cb94fd2fe",
   "metadata": {},
   "outputs": [],
   "source": []
  },
  {
   "cell_type": "code",
   "execution_count": 3,
   "id": "e21bec97-4886-4727-abb2-86cdb879e40c",
   "metadata": {},
   "outputs": [
    {
     "data": {
      "text/html": [
       "<div>\n",
       "<style scoped>\n",
       "    .dataframe tbody tr th:only-of-type {\n",
       "        vertical-align: middle;\n",
       "    }\n",
       "\n",
       "    .dataframe tbody tr th {\n",
       "        vertical-align: top;\n",
       "    }\n",
       "\n",
       "    .dataframe thead th {\n",
       "        text-align: right;\n",
       "    }\n",
       "</style>\n",
       "<table border=\"1\" class=\"dataframe\">\n",
       "  <thead>\n",
       "    <tr style=\"text-align: right;\">\n",
       "      <th></th>\n",
       "      <th>age</th>\n",
       "      <th>sex</th>\n",
       "      <th>bmi</th>\n",
       "      <th>bp</th>\n",
       "      <th>s1</th>\n",
       "      <th>s2</th>\n",
       "      <th>s3</th>\n",
       "      <th>s4</th>\n",
       "      <th>s5</th>\n",
       "      <th>s6</th>\n",
       "    </tr>\n",
       "  </thead>\n",
       "  <tbody>\n",
       "    <tr>\n",
       "      <th>0</th>\n",
       "      <td>0.038076</td>\n",
       "      <td>0.050680</td>\n",
       "      <td>0.061696</td>\n",
       "      <td>0.021872</td>\n",
       "      <td>-0.044223</td>\n",
       "      <td>-0.034821</td>\n",
       "      <td>-0.043401</td>\n",
       "      <td>-0.002592</td>\n",
       "      <td>0.019908</td>\n",
       "      <td>-0.017646</td>\n",
       "    </tr>\n",
       "    <tr>\n",
       "      <th>1</th>\n",
       "      <td>-0.001882</td>\n",
       "      <td>-0.044642</td>\n",
       "      <td>-0.051474</td>\n",
       "      <td>-0.026328</td>\n",
       "      <td>-0.008449</td>\n",
       "      <td>-0.019163</td>\n",
       "      <td>0.074412</td>\n",
       "      <td>-0.039493</td>\n",
       "      <td>-0.068330</td>\n",
       "      <td>-0.092204</td>\n",
       "    </tr>\n",
       "    <tr>\n",
       "      <th>2</th>\n",
       "      <td>0.085299</td>\n",
       "      <td>0.050680</td>\n",
       "      <td>0.044451</td>\n",
       "      <td>-0.005671</td>\n",
       "      <td>-0.045599</td>\n",
       "      <td>-0.034194</td>\n",
       "      <td>-0.032356</td>\n",
       "      <td>-0.002592</td>\n",
       "      <td>0.002864</td>\n",
       "      <td>-0.025930</td>\n",
       "    </tr>\n",
       "    <tr>\n",
       "      <th>3</th>\n",
       "      <td>-0.089063</td>\n",
       "      <td>-0.044642</td>\n",
       "      <td>-0.011595</td>\n",
       "      <td>-0.036656</td>\n",
       "      <td>0.012191</td>\n",
       "      <td>0.024991</td>\n",
       "      <td>-0.036038</td>\n",
       "      <td>0.034309</td>\n",
       "      <td>0.022692</td>\n",
       "      <td>-0.009362</td>\n",
       "    </tr>\n",
       "    <tr>\n",
       "      <th>4</th>\n",
       "      <td>0.005383</td>\n",
       "      <td>-0.044642</td>\n",
       "      <td>-0.036385</td>\n",
       "      <td>0.021872</td>\n",
       "      <td>0.003935</td>\n",
       "      <td>0.015596</td>\n",
       "      <td>0.008142</td>\n",
       "      <td>-0.002592</td>\n",
       "      <td>-0.031991</td>\n",
       "      <td>-0.046641</td>\n",
       "    </tr>\n",
       "    <tr>\n",
       "      <th>...</th>\n",
       "      <td>...</td>\n",
       "      <td>...</td>\n",
       "      <td>...</td>\n",
       "      <td>...</td>\n",
       "      <td>...</td>\n",
       "      <td>...</td>\n",
       "      <td>...</td>\n",
       "      <td>...</td>\n",
       "      <td>...</td>\n",
       "      <td>...</td>\n",
       "    </tr>\n",
       "    <tr>\n",
       "      <th>437</th>\n",
       "      <td>0.041708</td>\n",
       "      <td>0.050680</td>\n",
       "      <td>0.019662</td>\n",
       "      <td>0.059744</td>\n",
       "      <td>-0.005697</td>\n",
       "      <td>-0.002566</td>\n",
       "      <td>-0.028674</td>\n",
       "      <td>-0.002592</td>\n",
       "      <td>0.031193</td>\n",
       "      <td>0.007207</td>\n",
       "    </tr>\n",
       "    <tr>\n",
       "      <th>438</th>\n",
       "      <td>-0.005515</td>\n",
       "      <td>0.050680</td>\n",
       "      <td>-0.015906</td>\n",
       "      <td>-0.067642</td>\n",
       "      <td>0.049341</td>\n",
       "      <td>0.079165</td>\n",
       "      <td>-0.028674</td>\n",
       "      <td>0.034309</td>\n",
       "      <td>-0.018118</td>\n",
       "      <td>0.044485</td>\n",
       "    </tr>\n",
       "    <tr>\n",
       "      <th>439</th>\n",
       "      <td>0.041708</td>\n",
       "      <td>0.050680</td>\n",
       "      <td>-0.015906</td>\n",
       "      <td>0.017282</td>\n",
       "      <td>-0.037344</td>\n",
       "      <td>-0.013840</td>\n",
       "      <td>-0.024993</td>\n",
       "      <td>-0.011080</td>\n",
       "      <td>-0.046879</td>\n",
       "      <td>0.015491</td>\n",
       "    </tr>\n",
       "    <tr>\n",
       "      <th>440</th>\n",
       "      <td>-0.045472</td>\n",
       "      <td>-0.044642</td>\n",
       "      <td>0.039062</td>\n",
       "      <td>0.001215</td>\n",
       "      <td>0.016318</td>\n",
       "      <td>0.015283</td>\n",
       "      <td>-0.028674</td>\n",
       "      <td>0.026560</td>\n",
       "      <td>0.044528</td>\n",
       "      <td>-0.025930</td>\n",
       "    </tr>\n",
       "    <tr>\n",
       "      <th>441</th>\n",
       "      <td>-0.045472</td>\n",
       "      <td>-0.044642</td>\n",
       "      <td>-0.073030</td>\n",
       "      <td>-0.081414</td>\n",
       "      <td>0.083740</td>\n",
       "      <td>0.027809</td>\n",
       "      <td>0.173816</td>\n",
       "      <td>-0.039493</td>\n",
       "      <td>-0.004220</td>\n",
       "      <td>0.003064</td>\n",
       "    </tr>\n",
       "  </tbody>\n",
       "</table>\n",
       "<p>442 rows × 10 columns</p>\n",
       "</div>"
      ],
      "text/plain": [
       "          age       sex       bmi        bp        s1        s2        s3  \\\n",
       "0    0.038076  0.050680  0.061696  0.021872 -0.044223 -0.034821 -0.043401   \n",
       "1   -0.001882 -0.044642 -0.051474 -0.026328 -0.008449 -0.019163  0.074412   \n",
       "2    0.085299  0.050680  0.044451 -0.005671 -0.045599 -0.034194 -0.032356   \n",
       "3   -0.089063 -0.044642 -0.011595 -0.036656  0.012191  0.024991 -0.036038   \n",
       "4    0.005383 -0.044642 -0.036385  0.021872  0.003935  0.015596  0.008142   \n",
       "..        ...       ...       ...       ...       ...       ...       ...   \n",
       "437  0.041708  0.050680  0.019662  0.059744 -0.005697 -0.002566 -0.028674   \n",
       "438 -0.005515  0.050680 -0.015906 -0.067642  0.049341  0.079165 -0.028674   \n",
       "439  0.041708  0.050680 -0.015906  0.017282 -0.037344 -0.013840 -0.024993   \n",
       "440 -0.045472 -0.044642  0.039062  0.001215  0.016318  0.015283 -0.028674   \n",
       "441 -0.045472 -0.044642 -0.073030 -0.081414  0.083740  0.027809  0.173816   \n",
       "\n",
       "           s4        s5        s6  \n",
       "0   -0.002592  0.019908 -0.017646  \n",
       "1   -0.039493 -0.068330 -0.092204  \n",
       "2   -0.002592  0.002864 -0.025930  \n",
       "3    0.034309  0.022692 -0.009362  \n",
       "4   -0.002592 -0.031991 -0.046641  \n",
       "..        ...       ...       ...  \n",
       "437 -0.002592  0.031193  0.007207  \n",
       "438  0.034309 -0.018118  0.044485  \n",
       "439 -0.011080 -0.046879  0.015491  \n",
       "440  0.026560  0.044528 -0.025930  \n",
       "441 -0.039493 -0.004220  0.003064  \n",
       "\n",
       "[442 rows x 10 columns]"
      ]
     },
     "execution_count": 3,
     "metadata": {},
     "output_type": "execute_result"
    }
   ],
   "source": [
    "features_df=df.data\n",
    "target_df=df.target\n",
    "features_df"
   ]
  },
  {
   "cell_type": "markdown",
   "id": "a9f4d925-f387-43a4-bae0-d071b60a76ba",
   "metadata": {},
   "source": [
    "#### Summary Statistics"
   ]
  },
  {
   "cell_type": "code",
   "execution_count": 4,
   "id": "bad7f757-547f-4369-bb96-b93051f0cb03",
   "metadata": {},
   "outputs": [
    {
     "data": {
      "text/html": [
       "<div>\n",
       "<style scoped>\n",
       "    .dataframe tbody tr th:only-of-type {\n",
       "        vertical-align: middle;\n",
       "    }\n",
       "\n",
       "    .dataframe tbody tr th {\n",
       "        vertical-align: top;\n",
       "    }\n",
       "\n",
       "    .dataframe thead th {\n",
       "        text-align: right;\n",
       "    }\n",
       "</style>\n",
       "<table border=\"1\" class=\"dataframe\">\n",
       "  <thead>\n",
       "    <tr style=\"text-align: right;\">\n",
       "      <th></th>\n",
       "      <th>age</th>\n",
       "      <th>sex</th>\n",
       "      <th>bmi</th>\n",
       "      <th>bp</th>\n",
       "      <th>s1</th>\n",
       "      <th>s2</th>\n",
       "      <th>s3</th>\n",
       "      <th>s4</th>\n",
       "      <th>s5</th>\n",
       "      <th>s6</th>\n",
       "    </tr>\n",
       "  </thead>\n",
       "  <tbody>\n",
       "    <tr>\n",
       "      <th>count</th>\n",
       "      <td>4.420000e+02</td>\n",
       "      <td>4.420000e+02</td>\n",
       "      <td>4.420000e+02</td>\n",
       "      <td>4.420000e+02</td>\n",
       "      <td>4.420000e+02</td>\n",
       "      <td>4.420000e+02</td>\n",
       "      <td>4.420000e+02</td>\n",
       "      <td>4.420000e+02</td>\n",
       "      <td>4.420000e+02</td>\n",
       "      <td>4.420000e+02</td>\n",
       "    </tr>\n",
       "    <tr>\n",
       "      <th>mean</th>\n",
       "      <td>-3.634285e-16</td>\n",
       "      <td>1.308343e-16</td>\n",
       "      <td>-8.045349e-16</td>\n",
       "      <td>1.281655e-16</td>\n",
       "      <td>-8.835316e-17</td>\n",
       "      <td>1.327024e-16</td>\n",
       "      <td>-4.574646e-16</td>\n",
       "      <td>3.777301e-16</td>\n",
       "      <td>-3.830854e-16</td>\n",
       "      <td>-3.412882e-16</td>\n",
       "    </tr>\n",
       "    <tr>\n",
       "      <th>std</th>\n",
       "      <td>4.761905e-02</td>\n",
       "      <td>4.761905e-02</td>\n",
       "      <td>4.761905e-02</td>\n",
       "      <td>4.761905e-02</td>\n",
       "      <td>4.761905e-02</td>\n",
       "      <td>4.761905e-02</td>\n",
       "      <td>4.761905e-02</td>\n",
       "      <td>4.761905e-02</td>\n",
       "      <td>4.761905e-02</td>\n",
       "      <td>4.761905e-02</td>\n",
       "    </tr>\n",
       "    <tr>\n",
       "      <th>min</th>\n",
       "      <td>-1.072256e-01</td>\n",
       "      <td>-4.464164e-02</td>\n",
       "      <td>-9.027530e-02</td>\n",
       "      <td>-1.123996e-01</td>\n",
       "      <td>-1.267807e-01</td>\n",
       "      <td>-1.156131e-01</td>\n",
       "      <td>-1.023071e-01</td>\n",
       "      <td>-7.639450e-02</td>\n",
       "      <td>-1.260974e-01</td>\n",
       "      <td>-1.377672e-01</td>\n",
       "    </tr>\n",
       "    <tr>\n",
       "      <th>25%</th>\n",
       "      <td>-3.729927e-02</td>\n",
       "      <td>-4.464164e-02</td>\n",
       "      <td>-3.422907e-02</td>\n",
       "      <td>-3.665645e-02</td>\n",
       "      <td>-3.424784e-02</td>\n",
       "      <td>-3.035840e-02</td>\n",
       "      <td>-3.511716e-02</td>\n",
       "      <td>-3.949338e-02</td>\n",
       "      <td>-3.324879e-02</td>\n",
       "      <td>-3.317903e-02</td>\n",
       "    </tr>\n",
       "    <tr>\n",
       "      <th>50%</th>\n",
       "      <td>5.383060e-03</td>\n",
       "      <td>-4.464164e-02</td>\n",
       "      <td>-7.283766e-03</td>\n",
       "      <td>-5.670611e-03</td>\n",
       "      <td>-4.320866e-03</td>\n",
       "      <td>-3.819065e-03</td>\n",
       "      <td>-6.584468e-03</td>\n",
       "      <td>-2.592262e-03</td>\n",
       "      <td>-1.947634e-03</td>\n",
       "      <td>-1.077698e-03</td>\n",
       "    </tr>\n",
       "    <tr>\n",
       "      <th>75%</th>\n",
       "      <td>3.807591e-02</td>\n",
       "      <td>5.068012e-02</td>\n",
       "      <td>3.124802e-02</td>\n",
       "      <td>3.564384e-02</td>\n",
       "      <td>2.835801e-02</td>\n",
       "      <td>2.984439e-02</td>\n",
       "      <td>2.931150e-02</td>\n",
       "      <td>3.430886e-02</td>\n",
       "      <td>3.243323e-02</td>\n",
       "      <td>2.791705e-02</td>\n",
       "    </tr>\n",
       "    <tr>\n",
       "      <th>max</th>\n",
       "      <td>1.107267e-01</td>\n",
       "      <td>5.068012e-02</td>\n",
       "      <td>1.705552e-01</td>\n",
       "      <td>1.320442e-01</td>\n",
       "      <td>1.539137e-01</td>\n",
       "      <td>1.987880e-01</td>\n",
       "      <td>1.811791e-01</td>\n",
       "      <td>1.852344e-01</td>\n",
       "      <td>1.335990e-01</td>\n",
       "      <td>1.356118e-01</td>\n",
       "    </tr>\n",
       "  </tbody>\n",
       "</table>\n",
       "</div>"
      ],
      "text/plain": [
       "                age           sex           bmi            bp            s1  \\\n",
       "count  4.420000e+02  4.420000e+02  4.420000e+02  4.420000e+02  4.420000e+02   \n",
       "mean  -3.634285e-16  1.308343e-16 -8.045349e-16  1.281655e-16 -8.835316e-17   \n",
       "std    4.761905e-02  4.761905e-02  4.761905e-02  4.761905e-02  4.761905e-02   \n",
       "min   -1.072256e-01 -4.464164e-02 -9.027530e-02 -1.123996e-01 -1.267807e-01   \n",
       "25%   -3.729927e-02 -4.464164e-02 -3.422907e-02 -3.665645e-02 -3.424784e-02   \n",
       "50%    5.383060e-03 -4.464164e-02 -7.283766e-03 -5.670611e-03 -4.320866e-03   \n",
       "75%    3.807591e-02  5.068012e-02  3.124802e-02  3.564384e-02  2.835801e-02   \n",
       "max    1.107267e-01  5.068012e-02  1.705552e-01  1.320442e-01  1.539137e-01   \n",
       "\n",
       "                 s2            s3            s4            s5            s6  \n",
       "count  4.420000e+02  4.420000e+02  4.420000e+02  4.420000e+02  4.420000e+02  \n",
       "mean   1.327024e-16 -4.574646e-16  3.777301e-16 -3.830854e-16 -3.412882e-16  \n",
       "std    4.761905e-02  4.761905e-02  4.761905e-02  4.761905e-02  4.761905e-02  \n",
       "min   -1.156131e-01 -1.023071e-01 -7.639450e-02 -1.260974e-01 -1.377672e-01  \n",
       "25%   -3.035840e-02 -3.511716e-02 -3.949338e-02 -3.324879e-02 -3.317903e-02  \n",
       "50%   -3.819065e-03 -6.584468e-03 -2.592262e-03 -1.947634e-03 -1.077698e-03  \n",
       "75%    2.984439e-02  2.931150e-02  3.430886e-02  3.243323e-02  2.791705e-02  \n",
       "max    1.987880e-01  1.811791e-01  1.852344e-01  1.335990e-01  1.356118e-01  "
      ]
     },
     "execution_count": 4,
     "metadata": {},
     "output_type": "execute_result"
    }
   ],
   "source": [
    "features_df.describe()"
   ]
  },
  {
   "cell_type": "markdown",
   "id": "abd35ced-90fd-4daa-9ff4-dd94542284fc",
   "metadata": {},
   "source": [
    "#### Histograms"
   ]
  },
  {
   "cell_type": "code",
   "execution_count": 7,
   "id": "b0ad24d8-7f43-495f-8870-7d91272f2f2f",
   "metadata": {},
   "outputs": [
    {
     "data": {
      "image/png": "[encoded data removed]",
      "text/plain": [
       "<Figure size 1440x1080 with 12 Axes>"
      ]
     },
     "metadata": {
      "needs_background": "light"
     },
     "output_type": "display_data"
    }
   ],
   "source": [
    "%matplotlib inline\n",
    "import matplotlib.pyplot as plt\n",
    "features_df.hist(bins=50, figsize=(20,15))\n",
    "\n",
    "plt.show()"
   ]
  },
  {
   "cell_type": "markdown",
   "id": "5562267c-eb7b-42cd-ae39-b35ae473f7f8",
   "metadata": {},
   "source": [
    "#### scatter plots:"
   ]
  },
  {
   "cell_type": "markdown",
   "id": "48b799da-5fdc-49ec-b807-df6076f6fd1d",
   "metadata": {},
   "source": [
    "* age"
   ]
  },
  {
   "cell_type": "code",
   "execution_count": 15,
   "id": "23aa1ac5-e893-4996-a86e-876f6a6d20e3",
   "metadata": {},
   "outputs": [
    {
     "name": "stdout",
     "output_type": "stream",
     "text": [
      "\u001b[94m\u001b[1mage\u001b[0m\n"
     ]
    },
    {
     "data": {
      "image/png": "[encoded data removed]",
      "text/plain": [
       "<Figure size 432x288 with 1 Axes>"
      ]
     },
     "metadata": {
      "needs_background": "light"
     },
     "output_type": "display_data"
    }
   ],
   "source": [
    "%matplotlib inline\n",
    "import matplotlib.pyplot as plt\n",
    "\n",
    "print('\\033[94m\\033[1mage\\033[0m')\n",
    "ax1=plt.scatter(features_df.age, target_df, color='red' )\n",
    "plt.grid()\n",
    "plt.show()"
   ]
  },
  {
   "cell_type": "markdown",
   "id": "5351b19f-b583-4c95-9fe5-337e9376cd87",
   "metadata": {},
   "source": [
    "* sex:"
   ]
  },
  {
   "cell_type": "code",
   "execution_count": 18,
   "id": "6b9aaa81-ebfd-4212-9455-c69ea071cd09",
   "metadata": {},
   "outputs": [
    {
     "name": "stdout",
     "output_type": "stream",
     "text": [
      "\u001b[95m\u001b[1msex\u001b[0m\n"
     ]
    },
    {
     "data": {
      "image/png": "[encoded data removed]",
      "text/plain": [
       "<Figure size 432x288 with 1 Axes>"
      ]
     },
     "metadata": {
      "needs_background": "light"
     },
     "output_type": "display_data"
    }
   ],
   "source": [
    "print('\\033[95m\\033[1msex\\033[0m')\n",
    "ax2=plt.scatter(features_df.sex, target_df, color='blue' )\n",
    "plt.grid()"
   ]
  },
  {
   "cell_type": "markdown",
   "id": "36ca926d-1fae-4a6d-8ea3-32cb3cc8d8be",
   "metadata": {},
   "source": [
    "* bmi:"
   ]
  },
  {
   "cell_type": "code",
   "execution_count": 19,
   "id": "2f6ae870-c00b-4522-bf4a-0bf513f98bb9",
   "metadata": {},
   "outputs": [
    {
     "name": "stdout",
     "output_type": "stream",
     "text": [
      "\u001b[93m\u001b[1mbmi\u001b[0m\n"
     ]
    },
    {
     "data": {
      "image/png": "[encoded data removed]",
      "text/plain": [
       "<Figure size 432x288 with 1 Axes>"
      ]
     },
     "metadata": {
      "needs_background": "light"
     },
     "output_type": "display_data"
    }
   ],
   "source": [
    "print('\\033[93m\\033[1mbmi\\033[0m')\n",
    "ax2=plt.scatter(features_df.bmi, target_df, color='green' )\n",
    "plt.grid()"
   ]
  },
  {
   "cell_type": "markdown",
   "id": "aace5ecb-473b-4182-8654-de9eec1be486",
   "metadata": {},
   "source": [
    "* bp:"
   ]
  },
  {
   "cell_type": "code",
   "execution_count": 20,
   "id": "5e517d86-adbf-4378-9906-ef6d1dd1a70c",
   "metadata": {},
   "outputs": [
    {
     "name": "stdout",
     "output_type": "stream",
     "text": [
      "\u001b[92m\u001b[1mbp\u001b[0m\n"
     ]
    },
    {
     "data": {
      "image/png": "[encoded data removed]",
      "text/plain": [
       "<Figure size 432x288 with 1 Axes>"
      ]
     },
     "metadata": {
      "needs_background": "light"
     },
     "output_type": "display_data"
    }
   ],
   "source": [
    "print('\\033[92m\\033[1mbp\\033[0m')\n",
    "ax2=plt.scatter(features_df.bp, target_df, color='orange' )\n",
    "plt.grid()"
   ]
  },
  {
   "cell_type": "code",
   "execution_count": 22,
   "id": "82d00076-fd99-4b35-b0ba-468a70012250",
   "metadata": {
    "collapsed": true,
    "jupyter": {
     "outputs_hidden": true
    },
    "tags": []
   },
   "outputs": [
    {
     "name": "stdout",
     "output_type": "stream",
     "text": [
      "Collecting yellowbrick\n",
      "  Downloading yellowbrick-1.4-py3-none-any.whl (274 kB)\n",
      "Collecting scikit-learn>=1.0.0\n",
      "  Downloading scikit_learn-1.0.2-cp39-cp39-win_amd64.whl (7.2 MB)\n",
      "Requirement already satisfied: matplotlib!=3.0.0,>=2.0.2 in c:\\users\\patri\\anaconda3\\lib\\site-packages (from yellowbrick) (3.4.3)\n",
      "Requirement already satisfied: scipy>=1.0.0 in c:\\users\\patri\\anaconda3\\lib\\site-packages (from yellowbrick) (1.7.1)\n",
      "Requirement already satisfied: numpy>=1.16.0 in c:\\users\\patri\\anaconda3\\lib\\site-packages (from yellowbrick) (1.20.3)\n",
      "Requirement already satisfied: cycler>=0.10.0 in c:\\users\\patri\\anaconda3\\lib\\site-packages (from yellowbrick) (0.10.0)\n",
      "Requirement already satisfied: six in c:\\users\\patri\\anaconda3\\lib\\site-packages (from cycler>=0.10.0->yellowbrick) (1.15.0)\n",
      "Requirement already satisfied: pyparsing>=2.2.1 in c:\\users\\patri\\anaconda3\\lib\\site-packages (from matplotlib!=3.0.0,>=2.0.2->yellowbrick) (3.0.4)\n",
      "Requirement already satisfied: python-dateutil>=2.7 in c:\\users\\patri\\anaconda3\\lib\\site-packages (from matplotlib!=3.0.0,>=2.0.2->yellowbrick) (2.8.0)\n",
      "Requirement already satisfied: pillow>=6.2.0 in c:\\users\\patri\\anaconda3\\lib\\site-packages (from matplotlib!=3.0.0,>=2.0.2->yellowbrick) (8.4.0)\n",
      "Requirement already satisfied: kiwisolver>=1.0.1 in c:\\users\\patri\\anaconda3\\lib\\site-packages (from matplotlib!=3.0.0,>=2.0.2->yellowbrick) (1.3.1)\n",
      "Requirement already satisfied: joblib>=0.11 in c:\\users\\patri\\anaconda3\\lib\\site-packages (from scikit-learn>=1.0.0->yellowbrick) (1.1.0)\n",
      "Requirement already satisfied: threadpoolctl>=2.0.0 in c:\\users\\patri\\anaconda3\\lib\\site-packages (from scikit-learn>=1.0.0->yellowbrick) (2.2.0)\n",
      "Installing collected packages: scikit-learn, yellowbrick\n",
      "  Attempting uninstall: scikit-learn\n",
      "    Found existing installation: scikit-learn 0.24.2\n",
      "    Uninstalling scikit-learn-0.24.2:\n",
      "      Successfully uninstalled scikit-learn-0.24.2\n"
     ]
    },
    {
     "name": "stderr",
     "output_type": "stream",
     "text": [
      "ERROR: Could not install packages due to an OSError: [WinError 5] Access is denied: 'C:\\\\Users\\\\patri\\\\anaconda3\\\\Lib\\\\site-packages\\\\~klearn\\\\cluster\\\\_dbscan_inner.cp39-win_amd64.pyd'\n",
      "Consider using the `--user` option or check the permissions.\n",
      "\n"
     ]
    }
   ],
   "source": [
    "!pip install yellowbrick"
   ]
  },
  {
   "cell_type": "markdown",
   "id": "541f6fb1-3f6b-419b-85d2-3ad6499faf13",
   "metadata": {},
   "source": [
    "#### Find the column in features_df that has the highest correlation coefficient with the target values in target_df"
   ]
  },
  {
   "cell_type": "code",
   "execution_count": 26,
   "id": "45986852-1c22-450d-8a2e-9ba66d9be908",
   "metadata": {},
   "outputs": [
    {
     "data": {
      "text/html": [
       "<style type=\"text/css\">\n",
       "#T_3d980_row0_col0, #T_3d980_row1_col1, #T_3d980_row2_col2, #T_3d980_row3_col3, #T_3d980_row4_col4, #T_3d980_row5_col5, #T_3d980_row6_col6, #T_3d980_row7_col7, #T_3d980_row8_col8, #T_3d980_row9_col9 {\n",
       "  background-color: #662506;\n",
       "  color: #f1f1f1;\n",
       "}\n",
       "#T_3d980_row0_col1 {\n",
       "  background-color: #febb47;\n",
       "  color: #000000;\n",
       "}\n",
       "#T_3d980_row0_col2 {\n",
       "  background-color: #feba46;\n",
       "  color: #000000;\n",
       "}\n",
       "#T_3d980_row0_col3 {\n",
       "  background-color: #feaf3d;\n",
       "  color: #000000;\n",
       "}\n",
       "#T_3d980_row0_col4, #T_3d980_row1_col0 {\n",
       "  background-color: #fee697;\n",
       "  color: #000000;\n",
       "}\n",
       "#T_3d980_row0_col5 {\n",
       "  background-color: #fecb5f;\n",
       "  color: #000000;\n",
       "}\n",
       "#T_3d980_row0_col6, #T_3d980_row2_col5, #T_3d980_row3_col0 {\n",
       "  background-color: #fec24d;\n",
       "  color: #000000;\n",
       "}\n",
       "#T_3d980_row0_col7, #T_3d980_row7_col9 {\n",
       "  background-color: #f88b22;\n",
       "  color: #f1f1f1;\n",
       "}\n",
       "#T_3d980_row0_col8 {\n",
       "  background-color: #fea030;\n",
       "  color: #000000;\n",
       "}\n",
       "#T_3d980_row0_col9, #T_3d980_row3_col1, #T_3d980_row4_col2 {\n",
       "  background-color: #feaa38;\n",
       "  color: #000000;\n",
       "}\n",
       "#T_3d980_row1_col2 {\n",
       "  background-color: #fece65;\n",
       "  color: #000000;\n",
       "}\n",
       "#T_3d980_row1_col3, #T_3d980_row4_col3 {\n",
       "  background-color: #fec859;\n",
       "  color: #000000;\n",
       "}\n",
       "#T_3d980_row1_col4, #T_3d980_row6_col0, #T_3d980_row6_col1, #T_3d980_row6_col2, #T_3d980_row6_col3, #T_3d980_row6_col5, #T_3d980_row6_col7, #T_3d980_row6_col8, #T_3d980_row6_col9, #T_3d980_row7_col6 {\n",
       "  background-color: #ffffe5;\n",
       "  color: #000000;\n",
       "}\n",
       "#T_3d980_row1_col5 {\n",
       "  background-color: #fedb80;\n",
       "  color: #000000;\n",
       "}\n",
       "#T_3d980_row1_col6 {\n",
       "  background-color: #feeaa1;\n",
       "  color: #000000;\n",
       "}\n",
       "#T_3d980_row1_col7 {\n",
       "  background-color: #ed7316;\n",
       "  color: #f1f1f1;\n",
       "}\n",
       "#T_3d980_row1_col8 {\n",
       "  background-color: #febe4a;\n",
       "  color: #000000;\n",
       "}\n",
       "#T_3d980_row1_col9, #T_3d980_row5_col1 {\n",
       "  background-color: #fec34f;\n",
       "  color: #000000;\n",
       "}\n",
       "#T_3d980_row2_col0 {\n",
       "  background-color: #fee595;\n",
       "  color: #000000;\n",
       "}\n",
       "#T_3d980_row2_col1 {\n",
       "  background-color: #fecd63;\n",
       "  color: #000000;\n",
       "}\n",
       "#T_3d980_row2_col3, #T_3d980_row8_col3 {\n",
       "  background-color: #fe9e2d;\n",
       "  color: #000000;\n",
       "}\n",
       "#T_3d980_row2_col4 {\n",
       "  background-color: #fee89b;\n",
       "  color: #000000;\n",
       "}\n",
       "#T_3d980_row2_col6, #T_3d980_row3_col4 {\n",
       "  background-color: #fee99e;\n",
       "  color: #000000;\n",
       "}\n",
       "#T_3d980_row2_col7 {\n",
       "  background-color: #e2650f;\n",
       "  color: #f1f1f1;\n",
       "}\n",
       "#T_3d980_row2_col8 {\n",
       "  background-color: #ef7718;\n",
       "  color: #f1f1f1;\n",
       "}\n",
       "#T_3d980_row2_col9, #T_3d980_row3_col9 {\n",
       "  background-color: #fb9225;\n",
       "  color: #000000;\n",
       "}\n",
       "#T_3d980_row3_col2 {\n",
       "  background-color: #f6861f;\n",
       "  color: #f1f1f1;\n",
       "}\n",
       "#T_3d980_row3_col5 {\n",
       "  background-color: #fed26d;\n",
       "  color: #000000;\n",
       "}\n",
       "#T_3d980_row3_col6, #T_3d980_row8_col0 {\n",
       "  background-color: #fed16b;\n",
       "  color: #000000;\n",
       "}\n",
       "#T_3d980_row3_col7, #T_3d980_row7_col2 {\n",
       "  background-color: #f4811d;\n",
       "  color: #f1f1f1;\n",
       "}\n",
       "#T_3d980_row3_col8 {\n",
       "  background-color: #f5841e;\n",
       "  color: #f1f1f1;\n",
       "}\n",
       "#T_3d980_row4_col0, #T_3d980_row5_col3, #T_3d980_row5_col6 {\n",
       "  background-color: #fed471;\n",
       "  color: #000000;\n",
       "}\n",
       "#T_3d980_row4_col1 {\n",
       "  background-color: #fed778;\n",
       "  color: #000000;\n",
       "}\n",
       "#T_3d980_row4_col5 {\n",
       "  background-color: #892f05;\n",
       "  color: #f1f1f1;\n",
       "}\n",
       "#T_3d980_row4_col6 {\n",
       "  background-color: #fea937;\n",
       "  color: #000000;\n",
       "}\n",
       "#T_3d980_row4_col7 {\n",
       "  background-color: #cf5004;\n",
       "  color: #f1f1f1;\n",
       "}\n",
       "#T_3d980_row4_col8 {\n",
       "  background-color: #e46710;\n",
       "  color: #f1f1f1;\n",
       "}\n",
       "#T_3d980_row4_col9 {\n",
       "  background-color: #fea332;\n",
       "  color: #000000;\n",
       "}\n",
       "#T_3d980_row5_col0 {\n",
       "  background-color: #fedd84;\n",
       "  color: #000000;\n",
       "}\n",
       "#T_3d980_row5_col2 {\n",
       "  background-color: #fea736;\n",
       "  color: #000000;\n",
       "}\n",
       "#T_3d980_row5_col4 {\n",
       "  background-color: #913204;\n",
       "  color: #f1f1f1;\n",
       "}\n",
       "#T_3d980_row5_col7 {\n",
       "  background-color: #b64203;\n",
       "  color: #f1f1f1;\n",
       "}\n",
       "#T_3d980_row5_col8 {\n",
       "  background-color: #fc9427;\n",
       "  color: #000000;\n",
       "}\n",
       "#T_3d980_row5_col9 {\n",
       "  background-color: #fead3a;\n",
       "  color: #000000;\n",
       "}\n",
       "#T_3d980_row6_col4 {\n",
       "  background-color: #fffee0;\n",
       "  color: #000000;\n",
       "}\n",
       "#T_3d980_row7_col0 {\n",
       "  background-color: #fee18c;\n",
       "  color: #000000;\n",
       "}\n",
       "#T_3d980_row7_col1 {\n",
       "  background-color: #fb9326;\n",
       "  color: #000000;\n",
       "}\n",
       "#T_3d980_row7_col3 {\n",
       "  background-color: #fec652;\n",
       "  color: #000000;\n",
       "}\n",
       "#T_3d980_row7_col4 {\n",
       "  background-color: #fa9125;\n",
       "  color: #f1f1f1;\n",
       "}\n",
       "#T_3d980_row7_col5 {\n",
       "  background-color: #d45507;\n",
       "  color: #f1f1f1;\n",
       "}\n",
       "#T_3d980_row7_col8 {\n",
       "  background-color: #d15205;\n",
       "  color: #f1f1f1;\n",
       "}\n",
       "#T_3d980_row8_col1 {\n",
       "  background-color: #fec14c;\n",
       "  color: #000000;\n",
       "}\n",
       "#T_3d980_row8_col2 {\n",
       "  background-color: #f07919;\n",
       "  color: #f1f1f1;\n",
       "}\n",
       "#T_3d980_row8_col4 {\n",
       "  background-color: #fe9a2a;\n",
       "  color: #000000;\n",
       "}\n",
       "#T_3d980_row8_col5 {\n",
       "  background-color: #feb13e;\n",
       "  color: #000000;\n",
       "}\n",
       "#T_3d980_row8_col6 {\n",
       "  background-color: #feeca4;\n",
       "  color: #000000;\n",
       "}\n",
       "#T_3d980_row8_col7 {\n",
       "  background-color: #c04602;\n",
       "  color: #f1f1f1;\n",
       "}\n",
       "#T_3d980_row8_col9 {\n",
       "  background-color: #f27f1b;\n",
       "  color: #f1f1f1;\n",
       "}\n",
       "#T_3d980_row9_col0 {\n",
       "  background-color: #feca5d;\n",
       "  color: #000000;\n",
       "}\n",
       "#T_3d980_row9_col1 {\n",
       "  background-color: #feb23f;\n",
       "  color: #000000;\n",
       "}\n",
       "#T_3d980_row9_col2 {\n",
       "  background-color: #f68820;\n",
       "  color: #f1f1f1;\n",
       "}\n",
       "#T_3d980_row9_col3 {\n",
       "  background-color: #fe9f2e;\n",
       "  color: #000000;\n",
       "}\n",
       "#T_3d980_row9_col4 {\n",
       "  background-color: #fed676;\n",
       "  color: #000000;\n",
       "}\n",
       "#T_3d980_row9_col5 {\n",
       "  background-color: #feb945;\n",
       "  color: #000000;\n",
       "}\n",
       "#T_3d980_row9_col6 {\n",
       "  background-color: #fedf88;\n",
       "  color: #000000;\n",
       "}\n",
       "#T_3d980_row9_col7 {\n",
       "  background-color: #e1640e;\n",
       "  color: #f1f1f1;\n",
       "}\n",
       "#T_3d980_row9_col8 {\n",
       "  background-color: #ed7215;\n",
       "  color: #f1f1f1;\n",
       "}\n",
       "</style>\n",
       "<table id=\"T_3d980_\">\n",
       "  <thead>\n",
       "    <tr>\n",
       "      <th class=\"blank level0\" >&nbsp;</th>\n",
       "      <th class=\"col_heading level0 col0\" >age</th>\n",
       "      <th class=\"col_heading level0 col1\" >sex</th>\n",
       "      <th class=\"col_heading level0 col2\" >bmi</th>\n",
       "      <th class=\"col_heading level0 col3\" >bp</th>\n",
       "      <th class=\"col_heading level0 col4\" >s1</th>\n",
       "      <th class=\"col_heading level0 col5\" >s2</th>\n",
       "      <th class=\"col_heading level0 col6\" >s3</th>\n",
       "      <th class=\"col_heading level0 col7\" >s4</th>\n",
       "      <th class=\"col_heading level0 col8\" >s5</th>\n",
       "      <th class=\"col_heading level0 col9\" >s6</th>\n",
       "    </tr>\n",
       "  </thead>\n",
       "  <tbody>\n",
       "    <tr>\n",
       "      <th id=\"T_3d980_level0_row0\" class=\"row_heading level0 row0\" >age</th>\n",
       "      <td id=\"T_3d980_row0_col0\" class=\"data row0 col0\" >1.000000</td>\n",
       "      <td id=\"T_3d980_row0_col1\" class=\"data row0 col1\" >0.173737</td>\n",
       "      <td id=\"T_3d980_row0_col2\" class=\"data row0 col2\" >0.185085</td>\n",
       "      <td id=\"T_3d980_row0_col3\" class=\"data row0 col3\" >0.335427</td>\n",
       "      <td id=\"T_3d980_row0_col4\" class=\"data row0 col4\" >0.260061</td>\n",
       "      <td id=\"T_3d980_row0_col5\" class=\"data row0 col5\" >0.219243</td>\n",
       "      <td id=\"T_3d980_row0_col6\" class=\"data row0 col6\" >-0.075181</td>\n",
       "      <td id=\"T_3d980_row0_col7\" class=\"data row0 col7\" >0.203841</td>\n",
       "      <td id=\"T_3d980_row0_col8\" class=\"data row0 col8\" >0.270777</td>\n",
       "      <td id=\"T_3d980_row0_col9\" class=\"data row0 col9\" >0.301731</td>\n",
       "    </tr>\n",
       "    <tr>\n",
       "      <th id=\"T_3d980_level0_row1\" class=\"row_heading level0 row1\" >sex</th>\n",
       "      <td id=\"T_3d980_row1_col0\" class=\"data row1 col0\" >0.173737</td>\n",
       "      <td id=\"T_3d980_row1_col1\" class=\"data row1 col1\" >1.000000</td>\n",
       "      <td id=\"T_3d980_row1_col2\" class=\"data row1 col2\" >0.088161</td>\n",
       "      <td id=\"T_3d980_row1_col3\" class=\"data row1 col3\" >0.241013</td>\n",
       "      <td id=\"T_3d980_row1_col4\" class=\"data row1 col4\" >0.035277</td>\n",
       "      <td id=\"T_3d980_row1_col5\" class=\"data row1 col5\" >0.142637</td>\n",
       "      <td id=\"T_3d980_row1_col6\" class=\"data row1 col6\" >-0.379090</td>\n",
       "      <td id=\"T_3d980_row1_col7\" class=\"data row1 col7\" >0.332115</td>\n",
       "      <td id=\"T_3d980_row1_col8\" class=\"data row1 col8\" >0.149918</td>\n",
       "      <td id=\"T_3d980_row1_col9\" class=\"data row1 col9\" >0.208133</td>\n",
       "    </tr>\n",
       "    <tr>\n",
       "      <th id=\"T_3d980_level0_row2\" class=\"row_heading level0 row2\" >bmi</th>\n",
       "      <td id=\"T_3d980_row2_col0\" class=\"data row2 col0\" >0.185085</td>\n",
       "      <td id=\"T_3d980_row2_col1\" class=\"data row2 col1\" >0.088161</td>\n",
       "      <td id=\"T_3d980_row2_col2\" class=\"data row2 col2\" >1.000000</td>\n",
       "      <td id=\"T_3d980_row2_col3\" class=\"data row2 col3\" >0.395415</td>\n",
       "      <td id=\"T_3d980_row2_col4\" class=\"data row2 col4\" >0.249777</td>\n",
       "      <td id=\"T_3d980_row2_col5\" class=\"data row2 col5\" >0.261170</td>\n",
       "      <td id=\"T_3d980_row2_col6\" class=\"data row2 col6\" >-0.366811</td>\n",
       "      <td id=\"T_3d980_row2_col7\" class=\"data row2 col7\" >0.413807</td>\n",
       "      <td id=\"T_3d980_row2_col8\" class=\"data row2 col8\" >0.446159</td>\n",
       "      <td id=\"T_3d980_row2_col9\" class=\"data row2 col9\" >0.388680</td>\n",
       "    </tr>\n",
       "    <tr>\n",
       "      <th id=\"T_3d980_level0_row3\" class=\"row_heading level0 row3\" >bp</th>\n",
       "      <td id=\"T_3d980_row3_col0\" class=\"data row3 col0\" >0.335427</td>\n",
       "      <td id=\"T_3d980_row3_col1\" class=\"data row3 col1\" >0.241013</td>\n",
       "      <td id=\"T_3d980_row3_col2\" class=\"data row3 col2\" >0.395415</td>\n",
       "      <td id=\"T_3d980_row3_col3\" class=\"data row3 col3\" >1.000000</td>\n",
       "      <td id=\"T_3d980_row3_col4\" class=\"data row3 col4\" >0.242470</td>\n",
       "      <td id=\"T_3d980_row3_col5\" class=\"data row3 col5\" >0.185558</td>\n",
       "      <td id=\"T_3d980_row3_col6\" class=\"data row3 col6\" >-0.178761</td>\n",
       "      <td id=\"T_3d980_row3_col7\" class=\"data row3 col7\" >0.257653</td>\n",
       "      <td id=\"T_3d980_row3_col8\" class=\"data row3 col8\" >0.393478</td>\n",
       "      <td id=\"T_3d980_row3_col9\" class=\"data row3 col9\" >0.390429</td>\n",
       "    </tr>\n",
       "    <tr>\n",
       "      <th id=\"T_3d980_level0_row4\" class=\"row_heading level0 row4\" >s1</th>\n",
       "      <td id=\"T_3d980_row4_col0\" class=\"data row4 col0\" >0.260061</td>\n",
       "      <td id=\"T_3d980_row4_col1\" class=\"data row4 col1\" >0.035277</td>\n",
       "      <td id=\"T_3d980_row4_col2\" class=\"data row4 col2\" >0.249777</td>\n",
       "      <td id=\"T_3d980_row4_col3\" class=\"data row4 col3\" >0.242470</td>\n",
       "      <td id=\"T_3d980_row4_col4\" class=\"data row4 col4\" >1.000000</td>\n",
       "      <td id=\"T_3d980_row4_col5\" class=\"data row4 col5\" >0.896663</td>\n",
       "      <td id=\"T_3d980_row4_col6\" class=\"data row4 col6\" >0.051519</td>\n",
       "      <td id=\"T_3d980_row4_col7\" class=\"data row4 col7\" >0.542207</td>\n",
       "      <td id=\"T_3d980_row4_col8\" class=\"data row4 col8\" >0.515501</td>\n",
       "      <td id=\"T_3d980_row4_col9\" class=\"data row4 col9\" >0.325717</td>\n",
       "    </tr>\n",
       "    <tr>\n",
       "      <th id=\"T_3d980_level0_row5\" class=\"row_heading level0 row5\" >s2</th>\n",
       "      <td id=\"T_3d980_row5_col0\" class=\"data row5 col0\" >0.219243</td>\n",
       "      <td id=\"T_3d980_row5_col1\" class=\"data row5 col1\" >0.142637</td>\n",
       "      <td id=\"T_3d980_row5_col2\" class=\"data row5 col2\" >0.261170</td>\n",
       "      <td id=\"T_3d980_row5_col3\" class=\"data row5 col3\" >0.185558</td>\n",
       "      <td id=\"T_3d980_row5_col4\" class=\"data row5 col4\" >0.896663</td>\n",
       "      <td id=\"T_3d980_row5_col5\" class=\"data row5 col5\" >1.000000</td>\n",
       "      <td id=\"T_3d980_row5_col6\" class=\"data row5 col6\" >-0.196455</td>\n",
       "      <td id=\"T_3d980_row5_col7\" class=\"data row5 col7\" >0.659817</td>\n",
       "      <td id=\"T_3d980_row5_col8\" class=\"data row5 col8\" >0.318353</td>\n",
       "      <td id=\"T_3d980_row5_col9\" class=\"data row5 col9\" >0.290600</td>\n",
       "    </tr>\n",
       "    <tr>\n",
       "      <th id=\"T_3d980_level0_row6\" class=\"row_heading level0 row6\" >s3</th>\n",
       "      <td id=\"T_3d980_row6_col0\" class=\"data row6 col0\" >-0.075181</td>\n",
       "      <td id=\"T_3d980_row6_col1\" class=\"data row6 col1\" >-0.379090</td>\n",
       "      <td id=\"T_3d980_row6_col2\" class=\"data row6 col2\" >-0.366811</td>\n",
       "      <td id=\"T_3d980_row6_col3\" class=\"data row6 col3\" >-0.178761</td>\n",
       "      <td id=\"T_3d980_row6_col4\" class=\"data row6 col4\" >0.051519</td>\n",
       "      <td id=\"T_3d980_row6_col5\" class=\"data row6 col5\" >-0.196455</td>\n",
       "      <td id=\"T_3d980_row6_col6\" class=\"data row6 col6\" >1.000000</td>\n",
       "      <td id=\"T_3d980_row6_col7\" class=\"data row6 col7\" >-0.738493</td>\n",
       "      <td id=\"T_3d980_row6_col8\" class=\"data row6 col8\" >-0.398577</td>\n",
       "      <td id=\"T_3d980_row6_col9\" class=\"data row6 col9\" >-0.273697</td>\n",
       "    </tr>\n",
       "    <tr>\n",
       "      <th id=\"T_3d980_level0_row7\" class=\"row_heading level0 row7\" >s4</th>\n",
       "      <td id=\"T_3d980_row7_col0\" class=\"data row7 col0\" >0.203841</td>\n",
       "      <td id=\"T_3d980_row7_col1\" class=\"data row7 col1\" >0.332115</td>\n",
       "      <td id=\"T_3d980_row7_col2\" class=\"data row7 col2\" >0.413807</td>\n",
       "      <td id=\"T_3d980_row7_col3\" class=\"data row7 col3\" >0.257653</td>\n",
       "      <td id=\"T_3d980_row7_col4\" class=\"data row7 col4\" >0.542207</td>\n",
       "      <td id=\"T_3d980_row7_col5\" class=\"data row7 col5\" >0.659817</td>\n",
       "      <td id=\"T_3d980_row7_col6\" class=\"data row7 col6\" >-0.738493</td>\n",
       "      <td id=\"T_3d980_row7_col7\" class=\"data row7 col7\" >1.000000</td>\n",
       "      <td id=\"T_3d980_row7_col8\" class=\"data row7 col8\" >0.617857</td>\n",
       "      <td id=\"T_3d980_row7_col9\" class=\"data row7 col9\" >0.417212</td>\n",
       "    </tr>\n",
       "    <tr>\n",
       "      <th id=\"T_3d980_level0_row8\" class=\"row_heading level0 row8\" >s5</th>\n",
       "      <td id=\"T_3d980_row8_col0\" class=\"data row8 col0\" >0.270777</td>\n",
       "      <td id=\"T_3d980_row8_col1\" class=\"data row8 col1\" >0.149918</td>\n",
       "      <td id=\"T_3d980_row8_col2\" class=\"data row8 col2\" >0.446159</td>\n",
       "      <td id=\"T_3d980_row8_col3\" class=\"data row8 col3\" >0.393478</td>\n",
       "      <td id=\"T_3d980_row8_col4\" class=\"data row8 col4\" >0.515501</td>\n",
       "      <td id=\"T_3d980_row8_col5\" class=\"data row8 col5\" >0.318353</td>\n",
       "      <td id=\"T_3d980_row8_col6\" class=\"data row8 col6\" >-0.398577</td>\n",
       "      <td id=\"T_3d980_row8_col7\" class=\"data row8 col7\" >0.617857</td>\n",
       "      <td id=\"T_3d980_row8_col8\" class=\"data row8 col8\" >1.000000</td>\n",
       "      <td id=\"T_3d980_row8_col9\" class=\"data row8 col9\" >0.464670</td>\n",
       "    </tr>\n",
       "    <tr>\n",
       "      <th id=\"T_3d980_level0_row9\" class=\"row_heading level0 row9\" >s6</th>\n",
       "      <td id=\"T_3d980_row9_col0\" class=\"data row9 col0\" >0.301731</td>\n",
       "      <td id=\"T_3d980_row9_col1\" class=\"data row9 col1\" >0.208133</td>\n",
       "      <td id=\"T_3d980_row9_col2\" class=\"data row9 col2\" >0.388680</td>\n",
       "      <td id=\"T_3d980_row9_col3\" class=\"data row9 col3\" >0.390429</td>\n",
       "      <td id=\"T_3d980_row9_col4\" class=\"data row9 col4\" >0.325717</td>\n",
       "      <td id=\"T_3d980_row9_col5\" class=\"data row9 col5\" >0.290600</td>\n",
       "      <td id=\"T_3d980_row9_col6\" class=\"data row9 col6\" >-0.273697</td>\n",
       "      <td id=\"T_3d980_row9_col7\" class=\"data row9 col7\" >0.417212</td>\n",
       "      <td id=\"T_3d980_row9_col8\" class=\"data row9 col8\" >0.464670</td>\n",
       "      <td id=\"T_3d980_row9_col9\" class=\"data row9 col9\" >1.000000</td>\n",
       "    </tr>\n",
       "  </tbody>\n",
       "</table>\n"
      ],
      "text/plain": [
       "<pandas.io.formats.style.Styler at 0x2231c30d9a0>"
      ]
     },
     "execution_count": 26,
     "metadata": {},
     "output_type": "execute_result"
    }
   ],
   "source": [
    "df.data.corr().style.background_gradient(cmap=\"YlOrBr\")\n",
    "# From the below chart, s1 and s2 are highly correlated with number of 0.896663."
   ]
  },
  {
   "cell_type": "markdown",
   "id": "b6bdd273-ca3e-4582-8935-20cdff3ae770",
   "metadata": {},
   "source": [
    "#### Split the data into a training set and test set"
   ]
  },
  {
   "cell_type": "code",
   "execution_count": 28,
   "id": "a6c3edb0-5408-4856-90c8-d95d6c7f603d",
   "metadata": {},
   "outputs": [],
   "source": [
    "def true_fun(X):\n",
    "    return np.cos(1.5 * np.pi * X)"
   ]
  },
  {
   "cell_type": "code",
   "execution_count": 29,
   "id": "a8e31924-f297-4fc8-966c-55a0831d7af4",
   "metadata": {},
   "outputs": [],
   "source": [
    "np.random.seed(0)"
   ]
  },
  {
   "cell_type": "code",
   "execution_count": 30,
   "id": "e5cc15b1-5110-41e0-b6f3-518ea206a32c",
   "metadata": {},
   "outputs": [],
   "source": [
    "Xactual = np.linspace(0, 1, 442)\n",
    "yactual = true_fun(Xactual)"
   ]
  },
  {
   "cell_type": "code",
   "execution_count": 31,
   "id": "4a33e88c-384d-46d4-9e93-147e1823d0ff",
   "metadata": {},
   "outputs": [],
   "source": [
    "n_samples = 50\n",
    "X = np.sort(np.random.rand(n_samples))\n",
    "y = true_fun(X) + np.random.randn(n_samples) * 0.1"
   ]
  },
  {
   "cell_type": "code",
   "execution_count": 33,
   "id": "d93b7b88-8838-4ab0-a309-ddcc2ace1600",
   "metadata": {},
   "outputs": [
    {
     "data": {
      "text/plain": [
       "array([0.0187898 , 0.0202184 , 0.06022547, 0.07103606, 0.0871293 ,\n",
       "       0.11827443, 0.1289263 , 0.14335329, 0.21038256, 0.26455561,\n",
       "       0.31542835, 0.3595079 , 0.36371077, 0.38344152, 0.41466194,\n",
       "       0.4236548 , 0.43703195, 0.43758721, 0.45615033, 0.46147936,\n",
       "       0.52184832, 0.52889492, 0.54488318, 0.5488135 , 0.56804456,\n",
       "       0.56843395, 0.60276338, 0.61209572, 0.616934  , 0.6176355 ,\n",
       "       0.63992102, 0.64589411, 0.66676672, 0.67063787, 0.6818203 ,\n",
       "       0.6976312 , 0.71518937, 0.77423369, 0.77815675, 0.78052918,\n",
       "       0.79172504, 0.79915856, 0.83261985, 0.87001215, 0.891773  ,\n",
       "       0.92559664, 0.94374808, 0.94466892, 0.96366276, 0.97861834])"
      ]
     },
     "execution_count": 33,
     "metadata": {},
     "output_type": "execute_result"
    }
   ],
   "source": [
    "X"
   ]
  },
  {
   "cell_type": "code",
   "execution_count": 34,
   "id": "7d0caee5-136e-4663-b0b3-b5329e0d75ea",
   "metadata": {},
   "outputs": [],
   "source": [
    "np.random.seed(49)"
   ]
  },
  {
   "cell_type": "code",
   "execution_count": 35,
   "id": "3fa6f04d-d193-4109-8c10-c68aa37c1b4d",
   "metadata": {},
   "outputs": [],
   "source": [
    "def split_train_test(data,test_ratio):\n",
    "    shuffled_indices = np.random.permutation(len(data))\n",
    "    test_set_size = int(len(data)*test_ratio)\n",
    "    test_indices = shuffled_indices[:test_set_size]\n",
    "    train_indices = shuffled_indices[test_set_size:]\n",
    "    return data.iloc[train_indices], data.iloc[test_indices]"
   ]
  },
  {
   "cell_type": "code",
   "execution_count": 36,
   "id": "b1fe753e-2c68-4319-a443-92ea80330767",
   "metadata": {},
   "outputs": [
    {
     "data": {
      "text/plain": [
       "88"
      ]
     },
     "execution_count": 36,
     "metadata": {},
     "output_type": "execute_result"
    }
   ],
   "source": [
    "train_test, test_set = split_train_test(df.data, 0.2)\n",
    "len(test_set)"
   ]
  },
  {
   "cell_type": "code",
   "execution_count": 37,
   "id": "4db66621-086e-4acf-9d3d-24bde3a0a566",
   "metadata": {},
   "outputs": [
    {
     "data": {
      "text/html": [
       "<div>\n",
       "<style scoped>\n",
       "    .dataframe tbody tr th:only-of-type {\n",
       "        vertical-align: middle;\n",
       "    }\n",
       "\n",
       "    .dataframe tbody tr th {\n",
       "        vertical-align: top;\n",
       "    }\n",
       "\n",
       "    .dataframe thead th {\n",
       "        text-align: right;\n",
       "    }\n",
       "</style>\n",
       "<table border=\"1\" class=\"dataframe\">\n",
       "  <thead>\n",
       "    <tr style=\"text-align: right;\">\n",
       "      <th></th>\n",
       "      <th>age</th>\n",
       "      <th>sex</th>\n",
       "      <th>bmi</th>\n",
       "      <th>bp</th>\n",
       "      <th>s1</th>\n",
       "      <th>s2</th>\n",
       "      <th>s3</th>\n",
       "      <th>s4</th>\n",
       "      <th>s5</th>\n",
       "      <th>s6</th>\n",
       "    </tr>\n",
       "  </thead>\n",
       "  <tbody>\n",
       "    <tr>\n",
       "      <th>421</th>\n",
       "      <td>0.038076</td>\n",
       "      <td>0.050680</td>\n",
       "      <td>0.016428</td>\n",
       "      <td>0.021872</td>\n",
       "      <td>0.039710</td>\n",
       "      <td>0.045032</td>\n",
       "      <td>-0.043401</td>\n",
       "      <td>0.071210</td>\n",
       "      <td>0.049769</td>\n",
       "      <td>0.015491</td>\n",
       "    </tr>\n",
       "    <tr>\n",
       "      <th>285</th>\n",
       "      <td>0.012648</td>\n",
       "      <td>-0.044642</td>\n",
       "      <td>-0.020218</td>\n",
       "      <td>-0.015999</td>\n",
       "      <td>0.012191</td>\n",
       "      <td>0.021233</td>\n",
       "      <td>-0.076536</td>\n",
       "      <td>0.108111</td>\n",
       "      <td>0.059881</td>\n",
       "      <td>-0.021788</td>\n",
       "    </tr>\n",
       "    <tr>\n",
       "      <th>291</th>\n",
       "      <td>0.074401</td>\n",
       "      <td>-0.044642</td>\n",
       "      <td>0.018584</td>\n",
       "      <td>0.063187</td>\n",
       "      <td>0.061725</td>\n",
       "      <td>0.042840</td>\n",
       "      <td>0.008142</td>\n",
       "      <td>-0.002592</td>\n",
       "      <td>0.058039</td>\n",
       "      <td>-0.059067</td>\n",
       "    </tr>\n",
       "    <tr>\n",
       "      <th>269</th>\n",
       "      <td>0.009016</td>\n",
       "      <td>-0.044642</td>\n",
       "      <td>-0.032073</td>\n",
       "      <td>-0.026328</td>\n",
       "      <td>0.042462</td>\n",
       "      <td>-0.010395</td>\n",
       "      <td>0.159089</td>\n",
       "      <td>-0.076395</td>\n",
       "      <td>-0.011901</td>\n",
       "      <td>-0.038357</td>\n",
       "    </tr>\n",
       "    <tr>\n",
       "      <th>366</th>\n",
       "      <td>-0.045472</td>\n",
       "      <td>0.050680</td>\n",
       "      <td>0.137143</td>\n",
       "      <td>-0.015999</td>\n",
       "      <td>0.041086</td>\n",
       "      <td>0.031880</td>\n",
       "      <td>-0.043401</td>\n",
       "      <td>0.071210</td>\n",
       "      <td>0.071022</td>\n",
       "      <td>0.048628</td>\n",
       "    </tr>\n",
       "  </tbody>\n",
       "</table>\n",
       "</div>"
      ],
      "text/plain": [
       "          age       sex       bmi        bp        s1        s2        s3  \\\n",
       "421  0.038076  0.050680  0.016428  0.021872  0.039710  0.045032 -0.043401   \n",
       "285  0.012648 -0.044642 -0.020218 -0.015999  0.012191  0.021233 -0.076536   \n",
       "291  0.074401 -0.044642  0.018584  0.063187  0.061725  0.042840  0.008142   \n",
       "269  0.009016 -0.044642 -0.032073 -0.026328  0.042462 -0.010395  0.159089   \n",
       "366 -0.045472  0.050680  0.137143 -0.015999  0.041086  0.031880 -0.043401   \n",
       "\n",
       "           s4        s5        s6  \n",
       "421  0.071210  0.049769  0.015491  \n",
       "285  0.108111  0.059881 -0.021788  \n",
       "291 -0.002592  0.058039 -0.059067  \n",
       "269 -0.076395 -0.011901 -0.038357  \n",
       "366  0.071210  0.071022  0.048628  "
      ]
     },
     "execution_count": 37,
     "metadata": {},
     "output_type": "execute_result"
    }
   ],
   "source": [
    "test_set.head()"
   ]
  },
  {
   "cell_type": "markdown",
   "id": "fdfe07e6-778d-4a65-be6d-b1dd98c232c6",
   "metadata": {},
   "source": [
    "#### Using this feature and target, perform linear regression with sklearn's LinearRegression"
   ]
  },
  {
   "cell_type": "code",
   "execution_count": 38,
   "id": "cf756f36-0fd5-4f16-a314-1a31b74053f7",
   "metadata": {},
   "outputs": [],
   "source": [
    "from sklearn.model_selection import train_test_split\n",
    "from sklearn.linear_model import LinearRegression\n",
    "from sklearn.preprocessing import StandardScaler\n",
    "\n",
    "X = df.data[['bmi']]\n",
    "y = df.data[['bp']]"
   ]
  },
  {
   "cell_type": "code",
   "execution_count": 39,
   "id": "679410ec-7efc-4e32-a0e2-968f54342c7b",
   "metadata": {},
   "outputs": [
    {
     "data": {
      "text/html": [
       "<div>\n",
       "<style scoped>\n",
       "    .dataframe tbody tr th:only-of-type {\n",
       "        vertical-align: middle;\n",
       "    }\n",
       "\n",
       "    .dataframe tbody tr th {\n",
       "        vertical-align: top;\n",
       "    }\n",
       "\n",
       "    .dataframe thead th {\n",
       "        text-align: right;\n",
       "    }\n",
       "</style>\n",
       "<table border=\"1\" class=\"dataframe\">\n",
       "  <thead>\n",
       "    <tr style=\"text-align: right;\">\n",
       "      <th></th>\n",
       "      <th>bmi</th>\n",
       "    </tr>\n",
       "  </thead>\n",
       "  <tbody>\n",
       "    <tr>\n",
       "      <th>0</th>\n",
       "      <td>0.061696</td>\n",
       "    </tr>\n",
       "    <tr>\n",
       "      <th>1</th>\n",
       "      <td>-0.051474</td>\n",
       "    </tr>\n",
       "    <tr>\n",
       "      <th>2</th>\n",
       "      <td>0.044451</td>\n",
       "    </tr>\n",
       "    <tr>\n",
       "      <th>3</th>\n",
       "      <td>-0.011595</td>\n",
       "    </tr>\n",
       "    <tr>\n",
       "      <th>4</th>\n",
       "      <td>-0.036385</td>\n",
       "    </tr>\n",
       "  </tbody>\n",
       "</table>\n",
       "</div>"
      ],
      "text/plain": [
       "        bmi\n",
       "0  0.061696\n",
       "1 -0.051474\n",
       "2  0.044451\n",
       "3 -0.011595\n",
       "4 -0.036385"
      ]
     },
     "execution_count": 39,
     "metadata": {},
     "output_type": "execute_result"
    }
   ],
   "source": [
    "X.head()"
   ]
  },
  {
   "cell_type": "code",
   "execution_count": 40,
   "id": "f2477235-879e-41fe-8e8b-1e6f62f50d73",
   "metadata": {},
   "outputs": [
    {
     "data": {
      "text/html": [
       "<div>\n",
       "<style scoped>\n",
       "    .dataframe tbody tr th:only-of-type {\n",
       "        vertical-align: middle;\n",
       "    }\n",
       "\n",
       "    .dataframe tbody tr th {\n",
       "        vertical-align: top;\n",
       "    }\n",
       "\n",
       "    .dataframe thead th {\n",
       "        text-align: right;\n",
       "    }\n",
       "</style>\n",
       "<table border=\"1\" class=\"dataframe\">\n",
       "  <thead>\n",
       "    <tr style=\"text-align: right;\">\n",
       "      <th></th>\n",
       "      <th>bp</th>\n",
       "    </tr>\n",
       "  </thead>\n",
       "  <tbody>\n",
       "    <tr>\n",
       "      <th>0</th>\n",
       "      <td>0.021872</td>\n",
       "    </tr>\n",
       "    <tr>\n",
       "      <th>1</th>\n",
       "      <td>-0.026328</td>\n",
       "    </tr>\n",
       "    <tr>\n",
       "      <th>2</th>\n",
       "      <td>-0.005671</td>\n",
       "    </tr>\n",
       "    <tr>\n",
       "      <th>3</th>\n",
       "      <td>-0.036656</td>\n",
       "    </tr>\n",
       "    <tr>\n",
       "      <th>4</th>\n",
       "      <td>0.021872</td>\n",
       "    </tr>\n",
       "  </tbody>\n",
       "</table>\n",
       "</div>"
      ],
      "text/plain": [
       "         bp\n",
       "0  0.021872\n",
       "1 -0.026328\n",
       "2 -0.005671\n",
       "3 -0.036656\n",
       "4  0.021872"
      ]
     },
     "execution_count": 40,
     "metadata": {},
     "output_type": "execute_result"
    }
   ],
   "source": [
    "y.head()"
   ]
  },
  {
   "cell_type": "code",
   "execution_count": 41,
   "id": "8761e23c-2c41-465c-b6f3-d37adaea55b2",
   "metadata": {},
   "outputs": [],
   "source": [
    "X_train, X_test, y_train, y_test = train_test_split(X, y, test_size =.2)"
   ]
  },
  {
   "cell_type": "code",
   "execution_count": 42,
   "id": "b71f4d70-dba9-47a0-b521-f40c4e8c3dcf",
   "metadata": {},
   "outputs": [],
   "source": [
    "scaler = StandardScaler()"
   ]
  },
  {
   "cell_type": "code",
   "execution_count": 43,
   "id": "b0bc2275-efca-4979-a78d-8cc814eb1374",
   "metadata": {},
   "outputs": [],
   "source": [
    "X_train = scaler.fit_transform(X_train)"
   ]
  },
  {
   "cell_type": "code",
   "execution_count": 44,
   "id": "2d8edd86-2e75-42fa-86b5-1dd9d5684a40",
   "metadata": {},
   "outputs": [],
   "source": [
    "X_test = scaler.transform(X_test)"
   ]
  },
  {
   "cell_type": "code",
   "execution_count": 45,
   "id": "22f25823-0c64-4f86-aed9-96b0e0955f15",
   "metadata": {},
   "outputs": [],
   "source": [
    "linear_regression = LinearRegression()\n",
    "model = linear_regression.fit(X_train, y_train)"
   ]
  },
  {
   "cell_type": "code",
   "execution_count": 46,
   "id": "cba159fd-78dc-4d0c-a0cb-a60b8956f9b2",
   "metadata": {},
   "outputs": [],
   "source": [
    "y_pred = model.predict(X_test)"
   ]
  },
  {
   "cell_type": "markdown",
   "id": "26c06a25-d4aa-4be0-b24d-eeea5326aa25",
   "metadata": {},
   "source": [
    "plt.scatter(X_test, y_test)\n",
    "plt.plot(X_test, y_pred, c='r')\n",
    "plt.grid()"
   ]
  },
  {
   "cell_type": "code",
   "execution_count": 48,
   "id": "ba97c7fb-08ed-4d46-96de-678b347acd38",
   "metadata": {},
   "outputs": [
    {
     "name": "stdout",
     "output_type": "stream",
     "text": [
      "Training score :  0.1818772448820276\n"
     ]
    }
   ],
   "source": [
    "print(\"Training score : \", linear_regression.score(X_train, y_train))"
   ]
  },
  {
   "cell_type": "markdown",
   "id": "904efc74-f444-4619-bb9f-96965b06a021",
   "metadata": {},
   "source": [
    "#### Model's coefficients"
   ]
  },
  {
   "cell_type": "code",
   "execution_count": 49,
   "id": "b2471093-f0df-4db9-adcc-5fbe55a4694d",
   "metadata": {},
   "outputs": [],
   "source": [
    "lindf = pd.DataFrame(X)"
   ]
  },
  {
   "cell_type": "code",
   "execution_count": 50,
   "id": "ba0540c3-e70f-4748-9dae-c3fd69e13a9d",
   "metadata": {},
   "outputs": [],
   "source": [
    "reg = LinearRegression().fit(lindf, y)"
   ]
  },
  {
   "cell_type": "code",
   "execution_count": 51,
   "id": "b0ed5675-9bd7-49c1-a854-a995cb960662",
   "metadata": {},
   "outputs": [
    {
     "name": "stdout",
     "output_type": "stream",
     "text": [
      "[[0.39541532]]\n"
     ]
    }
   ],
   "source": [
    "print(reg.coef_)"
   ]
  },
  {
   "cell_type": "code",
   "execution_count": 52,
   "id": "7c91fa12-bf3b-472a-983a-0e5bd8a7563b",
   "metadata": {},
   "outputs": [
    {
     "data": {
      "text/plain": [
       "array([4.45865713e-16])"
      ]
     },
     "execution_count": 52,
     "metadata": {},
     "output_type": "execute_result"
    }
   ],
   "source": [
    "reg.intercept_"
   ]
  },
  {
   "cell_type": "markdown",
   "id": "f5f8a6cb-628c-47d1-bcc5-9ae197705c15",
   "metadata": {},
   "source": [
    "#### Plot the linear fit together with the training data"
   ]
  },
  {
   "cell_type": "code",
   "execution_count": 55,
   "id": "bd37ac6d-5b9a-4c66-929f-b9af1fbd19ba",
   "metadata": {},
   "outputs": [
    {
     "ename": "NameError",
     "evalue": "name 'x' is not defined",
     "output_type": "error",
     "traceback": [
      "\u001b[1;31m---------------------------------------------------------------------------\u001b[0m",
      "\u001b[1;31mNameError\u001b[0m                                 Traceback (most recent call last)",
      "\u001b[1;32m~\\AppData\\Local\\Temp/ipykernel_13496/2067271482.py\u001b[0m in \u001b[0;36m<module>\u001b[1;34m\u001b[0m\n\u001b[1;32m----> 1\u001b[1;33m \u001b[0mytrain\u001b[0m \u001b[1;33m=\u001b[0m \u001b[0mreg\u001b[0m\u001b[1;33m.\u001b[0m\u001b[0mintercept_\u001b[0m \u001b[1;33m+\u001b[0m \u001b[0mreg\u001b[0m\u001b[1;33m.\u001b[0m\u001b[0mcoef_\u001b[0m \u001b[1;33m*\u001b[0m \u001b[0mx\u001b[0m\u001b[1;33m\u001b[0m\u001b[1;33m\u001b[0m\u001b[0m\n\u001b[0m",
      "\u001b[1;31mNameError\u001b[0m: name 'x' is not defined"
     ]
    }
   ],
   "source": [
    "ytrain = reg.intercept_ + reg.coef_ * x"
   ]
  },
  {
   "cell_type": "code",
   "execution_count": null,
   "id": "11d8d96c-9525-407c-9e2c-1dd05d0b3476",
   "metadata": {},
   "outputs": [],
   "source": [
    "plt.plot(x,y,'ro',x,ytrain,'b-');"
   ]
  },
  {
   "cell_type": "code",
   "execution_count": null,
   "id": "0ab19f25-7293-46e2-bc47-f0ad1f38a384",
   "metadata": {},
   "outputs": [],
   "source": []
  },
  {
   "cell_type": "code",
   "execution_count": null,
   "id": "ea5a14cb-8879-406a-af2a-a1127d5835fa",
   "metadata": {},
   "outputs": [],
   "source": []
  },
  {
   "cell_type": "markdown",
   "id": "bf37353f-a94a-4bd5-8245-316e6592bf85",
   "metadata": {},
   "source": [
    "#### Using sklearn's KMeans to identify 4 clusters"
   ]
  },
  {
   "cell_type": "code",
   "execution_count": null,
   "id": "3a0334e6-f17e-4676-b9d7-239434185723",
   "metadata": {},
   "outputs": [],
   "source": []
  },
  {
   "cell_type": "code",
   "execution_count": 57,
   "id": "22442f87-b8f8-44ab-a15b-6761fde1d617",
   "metadata": {},
   "outputs": [
    {
     "data": {
      "text/html": [
       "<div>\n",
       "<style scoped>\n",
       "    .dataframe tbody tr th:only-of-type {\n",
       "        vertical-align: middle;\n",
       "    }\n",
       "\n",
       "    .dataframe tbody tr th {\n",
       "        vertical-align: top;\n",
       "    }\n",
       "\n",
       "    .dataframe thead th {\n",
       "        text-align: right;\n",
       "    }\n",
       "</style>\n",
       "<table border=\"1\" class=\"dataframe\">\n",
       "  <thead>\n",
       "    <tr style=\"text-align: right;\">\n",
       "      <th></th>\n",
       "      <th>x1</th>\n",
       "      <th>x2</th>\n",
       "    </tr>\n",
       "  </thead>\n",
       "  <tbody>\n",
       "    <tr>\n",
       "      <th>0</th>\n",
       "      <td>0.836857</td>\n",
       "      <td>2.136359</td>\n",
       "    </tr>\n",
       "    <tr>\n",
       "      <th>1</th>\n",
       "      <td>-1.413658</td>\n",
       "      <td>7.409623</td>\n",
       "    </tr>\n",
       "    <tr>\n",
       "      <th>2</th>\n",
       "      <td>1.155213</td>\n",
       "      <td>5.099619</td>\n",
       "    </tr>\n",
       "    <tr>\n",
       "      <th>3</th>\n",
       "      <td>-1.018616</td>\n",
       "      <td>7.814915</td>\n",
       "    </tr>\n",
       "    <tr>\n",
       "      <th>4</th>\n",
       "      <td>1.271351</td>\n",
       "      <td>1.892542</td>\n",
       "    </tr>\n",
       "  </tbody>\n",
       "</table>\n",
       "</div>"
      ],
      "text/plain": [
       "         x1        x2\n",
       "0  0.836857  2.136359\n",
       "1 -1.413658  7.409623\n",
       "2  1.155213  5.099619\n",
       "3 -1.018616  7.814915\n",
       "4  1.271351  1.892542"
      ]
     },
     "execution_count": 57,
     "metadata": {},
     "output_type": "execute_result"
    }
   ],
   "source": [
    "from sklearn.datasets import make_blobs\n",
    "X, y = make_blobs(n_samples=300, centers=4, cluster_std=0.60, random_state=0)\n",
    "df = pd.DataFrame(X, columns=['x1','x2'])\n",
    "df.head()"
   ]
  },
  {
   "cell_type": "code",
   "execution_count": null,
   "id": "7334a74a-a0c4-41cf-a7c7-5ffb4a8a8af3",
   "metadata": {},
   "outputs": [],
   "source": []
  },
  {
   "cell_type": "code",
   "execution_count": 59,
   "id": "172ef755-182a-4985-bcf2-38b3fd972f2c",
   "metadata": {},
   "outputs": [
    {
     "data": {
      "image/png": "[encoded data removed]",
      "text/plain": [
       "<Figure size 432x288 with 1 Axes>"
      ]
     },
     "metadata": {
      "needs_background": "light"
     },
     "output_type": "display_data"
    }
   ],
   "source": [
    "kmeans = KMeans(n_clusters=4)\n",
    "kmeans.fit(X)\n",
    "sns.scatterplot(x=df.x1,y=df.x2,hue=kmeans.labels_,palette='rainbow')\n",
    "plt.grid()"
   ]
  },
  {
   "cell_type": "code",
   "execution_count": 60,
   "id": "e7013eb8-3210-4591-95c0-dfa135d934fa",
   "metadata": {},
   "outputs": [
    {
     "data": {
      "application/vnd.jupyter.widget-view+json": {
       "model_id": "e4b51be96a3144908f4ba1dcc3081a81",
       "version_major": 2,
       "version_minor": 0
      },
      "text/plain": [
       "interactive(children=(IntSlider(value=10, description='n_clusters', max=20, min=1), Output()), _dom_classes=('…"
      ]
     },
     "metadata": {},
     "output_type": "display_data"
    }
   ],
   "source": [
    "def kmeans_make_blobs(n_clusters):\n",
    "    kmeans = KMeans(n_clusters)\n",
    "    kmeans.fit(X)\n",
    "    sns.scatterplot(x=df.x1,\n",
    "                    y=df.x2,\n",
    "                    hue=kmeans.labels_,\n",
    "                    palette='rainbow')\n",
    "ipywidgets.interact(kmeans_make_blobs,n_clusters=(1,20));"
   ]
  },
  {
   "cell_type": "code",
   "execution_count": 61,
   "id": "55619074-7403-4ef4-b103-420093b821f9",
   "metadata": {},
   "outputs": [
    {
     "data": {
      "application/vnd.jupyter.widget-view+json": {
       "model_id": "9ce3f59b9aa64f87997ee73a57b74c3f",
       "version_major": 2,
       "version_minor": 0
      },
      "text/plain": [
       "interactive(children=(IntSlider(value=10, description='n_clusters', max=20, min=1), Output()), _dom_classes=('…"
      ]
     },
     "metadata": {},
     "output_type": "display_data"
    }
   ],
   "source": [
    "# change random_state from 0 to 50\n",
    "X, y = make_blobs(n_samples=300, centers=4, cluster_std=0.60, random_state=50)\n",
    "df = pd.DataFrame(X, columns=['x1','x2'])\n",
    "def kmeans_make_blobs(n_clusters):\n",
    "    kmeans = KMeans(n_clusters)\n",
    "    kmeans.fit(X)\n",
    "    sns.scatterplot(x=df.x1,\n",
    "                    y=df.x2,\n",
    "                    hue=kmeans.labels_,\n",
    "                    palette='rainbow')\n",
    "ipywidgets.interact(kmeans_make_blobs,n_clusters=(1,20));"
   ]
  },
  {
   "cell_type": "code",
   "execution_count": 66,
   "id": "68d05f31-b054-4597-9c50-bcbeae0b3640",
   "metadata": {},
   "outputs": [
    {
     "data": {
      "application/vnd.jupyter.widget-view+json": {
       "model_id": "049f7000f8e34168b8b0e34f27d654a1",
       "version_major": 2,
       "version_minor": 0
      },
      "text/plain": [
       "interactive(children=(IntSlider(value=10, description='n_clusters', max=20, min=1), Output()), _dom_classes=('…"
      ]
     },
     "metadata": {},
     "output_type": "display_data"
    }
   ],
   "source": [
    "# change random_state from 80 to 240\n",
    "X, y = make_blobs(n_samples=240, centers=4, cluster_std=0.60, random_state=240)\n",
    "df = pd.DataFrame(X, columns=['x1','x2'])\n",
    "def kmeans_make_blobs(n_clusters):\n",
    "    kmeans = KMeans(n_clusters)\n",
    "    kmeans.fit(X)\n",
    "    sns.scatterplot(x=df.x1,\n",
    "                    y=df.x2,\n",
    "                    hue=kmeans.labels_,\n",
    "                    palette='rainbow')\n",
    "ipywidgets.interact(kmeans_make_blobs,n_clusters=(1,20));"
   ]
  },
  {
   "cell_type": "code",
   "execution_count": 63,
   "id": "18e00846-88ec-4263-a4ff-2604722c7247",
   "metadata": {},
   "outputs": [
    {
     "data": {
      "application/vnd.jupyter.widget-view+json": {
       "model_id": "057fdcba069f4ab48190cb23506beb61",
       "version_major": 2,
       "version_minor": 0
      },
      "text/plain": [
       "interactive(children=(IntSlider(value=10, description='n_clusters', max=20, min=1), Output()), _dom_classes=('…"
      ]
     },
     "metadata": {},
     "output_type": "display_data"
    }
   ],
   "source": [
    "# change random_state from 0 to 50\n",
    "X, y = make_blobs(n_samples=300, centers=4, cluster_std=0.60, random_state=50)\n",
    "df = pd.DataFrame(X, columns=['x1','x2'])\n",
    "def kmeans_make_blobs(n_clusters):\n",
    "    kmeans = KMeans(n_clusters)\n",
    "    kmeans.fit(X)\n",
    "    sns.scatterplot(x=df.x1,\n",
    "                    y=df.x2,\n",
    "                    hue=kmeans.labels_,\n",
    "                    palette='rainbow')\n",
    "ipywidgets.interact(kmeans_make_blobs,n_clusters=(1,20));"
   ]
  },
  {
   "cell_type": "code",
   "execution_count": 64,
   "id": "076e0d86-9d5e-496d-a0d3-26ede5fc31e1",
   "metadata": {},
   "outputs": [
    {
     "data": {
      "application/vnd.jupyter.widget-view+json": {
       "model_id": "5d93f328c937443ba093ba9de02abc8c",
       "version_major": 2,
       "version_minor": 0
      },
      "text/plain": [
       "interactive(children=(IntSlider(value=10, description='n_clusters', max=20, min=1), Output()), _dom_classes=('…"
      ]
     },
     "metadata": {},
     "output_type": "display_data"
    }
   ],
   "source": [
    "# change random_state from 200 to 400\n",
    "X, y = make_blobs(n_samples=400, centers=4, cluster_std=0.60, random_state=200)\n",
    "df = pd.DataFrame(X, columns=['x1','x2'])\n",
    "def kmeans_make_blobs(n_clusters):\n",
    "    kmeans = KMeans(n_clusters)\n",
    "    kmeans.fit(X)\n",
    "    sns.scatterplot(x=df.x1,\n",
    "                    y=df.x2,\n",
    "                    hue=kmeans.labels_,\n",
    "                    palette='rainbow')\n",
    "ipywidgets.interact(kmeans_make_blobs,n_clusters=(1,20));"
   ]
  },
  {
   "cell_type": "code",
   "execution_count": null,
   "id": "460a063c-d707-4214-8a4a-2c44d58c0022",
   "metadata": {},
   "outputs": [],
   "source": []
  },
  {
   "cell_type": "code",
   "execution_count": null,
   "id": "33912344-a699-4cb5-953d-11f581b99c86",
   "metadata": {},
   "outputs": [],
   "source": []
  },
  {
   "cell_type": "code",
   "execution_count": null,
   "id": "9a3e49a9-5fd1-470c-ab46-65373d325587",
   "metadata": {},
   "outputs": [],
   "source": []
  },
  {
   "cell_type": "code",
   "execution_count": null,
   "id": "9691f4bc-b17a-40ea-b2bc-6b7fa37bcbe2",
   "metadata": {},
   "outputs": [],
   "source": []
  },
  {
   "cell_type": "code",
   "execution_count": null,
   "id": "c3f32e4c-134e-411a-bfb8-81ea1df2af44",
   "metadata": {},
   "outputs": [],
   "source": []
  },
  {
   "cell_type": "code",
   "execution_count": null,
   "id": "57ab0fe2-9b3d-43e1-a0b6-90f7635a2490",
   "metadata": {},
   "outputs": [],
   "source": []
  }
 ],
 "metadata": {
  "kernelspec": {
   "display_name": "Python 3 (ipykernel)",
   "language": "python",
   "name": "python3"
  },
  "language_info": {
   "codemirror_mode": {
    "name": "ipython",
    "version": 3
   },
   "file_extension": ".py",
   "mimetype": "text/x-python",
   "name": "python",
   "nbconvert_exporter": "python",
   "pygments_lexer": "ipython3",
   "version": "3.9.7"
  }
 },
 "nbformat": 4,
 "nbformat_minor": 5
}
