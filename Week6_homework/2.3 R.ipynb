{
 "cells": [
  {
   "cell_type": "code",
   "execution_count": null,
   "id": "a018c24b-032b-4d01-91fa-6f184f7f8ac2",
   "metadata": {},
   "outputs": [],
   "source": []
  },
  {
   "cell_type": "code",
   "execution_count": null,
   "id": "19c88dcc-23bd-4899-9ebf-01abf1f7dbbb",
   "metadata": {},
   "outputs": [],
   "source": []
  },
  {
   "cell_type": "markdown",
   "id": "7d03d4b0-2455-4bb0-8aae-ddbfd0db27b0",
   "metadata": {},
   "source": [
    "#### 2.3.1 Basic Commands"
   ]
  },
  {
   "cell_type": "code",
   "execution_count": 1,
   "id": "b5aab993-65ba-48b6-bdbc-9352fc513df8",
   "metadata": {},
   "outputs": [
    {
     "data": {
      "text/html": [
       "<style>\n",
       ".list-inline {list-style: none; margin:0; padding: 0}\n",
       ".list-inline>li {display: inline-block}\n",
       ".list-inline>li:not(:last-child)::after {content: \"\\00b7\"; padding: 0 .5ex}\n",
       "</style>\n",
       "<ol class=list-inline><li>1</li><li>3</li><li>2</li><li>5</li></ol>\n"
      ],
      "text/latex": [
       "\\begin{enumerate*}\n",
       "\\item 1\n",
       "\\item 3\n",
       "\\item 2\n",
       "\\item 5\n",
       "\\end{enumerate*}\n"
      ],
      "text/markdown": [
       "1. 1\n",
       "2. 3\n",
       "3. 2\n",
       "4. 5\n",
       "\n",
       "\n"
      ],
      "text/plain": [
       "[1] 1 3 2 5"
      ]
     },
     "metadata": {},
     "output_type": "display_data"
    }
   ],
   "source": [
    "x <- c(1, 3, 2, 5)\n",
    "x"
   ]
  },
  {
   "cell_type": "code",
   "execution_count": 2,
   "id": "e592e684-6c3a-421f-9ffb-48c958978973",
   "metadata": {},
   "outputs": [
    {
     "data": {
      "text/html": [
       "<style>\n",
       ".list-inline {list-style: none; margin:0; padding: 0}\n",
       ".list-inline>li {display: inline-block}\n",
       ".list-inline>li:not(:last-child)::after {content: \"\\00b7\"; padding: 0 .5ex}\n",
       "</style>\n",
       "<ol class=list-inline><li>1</li><li>6</li><li>2</li></ol>\n"
      ],
      "text/latex": [
       "\\begin{enumerate*}\n",
       "\\item 1\n",
       "\\item 6\n",
       "\\item 2\n",
       "\\end{enumerate*}\n"
      ],
      "text/markdown": [
       "1. 1\n",
       "2. 6\n",
       "3. 2\n",
       "\n",
       "\n"
      ],
      "text/plain": [
       "[1] 1 6 2"
      ]
     },
     "metadata": {},
     "output_type": "display_data"
    },
    {
     "data": {
      "text/html": [
       "<style>\n",
       ".list-inline {list-style: none; margin:0; padding: 0}\n",
       ".list-inline>li {display: inline-block}\n",
       ".list-inline>li:not(:last-child)::after {content: \"\\00b7\"; padding: 0 .5ex}\n",
       "</style>\n",
       "<ol class=list-inline><li>1</li><li>4</li><li>3</li></ol>\n"
      ],
      "text/latex": [
       "\\begin{enumerate*}\n",
       "\\item 1\n",
       "\\item 4\n",
       "\\item 3\n",
       "\\end{enumerate*}\n"
      ],
      "text/markdown": [
       "1. 1\n",
       "2. 4\n",
       "3. 3\n",
       "\n",
       "\n"
      ],
      "text/plain": [
       "[1] 1 4 3"
      ]
     },
     "metadata": {},
     "output_type": "display_data"
    },
    {
     "data": {
      "text/html": [
       "<style>\n",
       ".list-inline {list-style: none; margin:0; padding: 0}\n",
       ".list-inline>li {display: inline-block}\n",
       ".list-inline>li:not(:last-child)::after {content: \"\\00b7\"; padding: 0 .5ex}\n",
       "</style>\n",
       "<ol class=list-inline><li>2</li><li>10</li><li>5</li></ol>\n"
      ],
      "text/latex": [
       "\\begin{enumerate*}\n",
       "\\item 2\n",
       "\\item 10\n",
       "\\item 5\n",
       "\\end{enumerate*}\n"
      ],
      "text/markdown": [
       "1. 2\n",
       "2. 10\n",
       "3. 5\n",
       "\n",
       "\n"
      ],
      "text/plain": [
       "[1]  2 10  5"
      ]
     },
     "metadata": {},
     "output_type": "display_data"
    }
   ],
   "source": [
    "x = c(1, 6, 2)\n",
    "x\n",
    "y = c(1, 4, 3)\n",
    "y\n",
    "x+y"
   ]
  },
  {
   "cell_type": "code",
   "execution_count": 3,
   "id": "07f068a4-86b7-4ee2-a6cc-f4896ba1650a",
   "metadata": {},
   "outputs": [
    {
     "data": {
      "text/html": [
       "3"
      ],
      "text/latex": [
       "3"
      ],
      "text/markdown": [
       "3"
      ],
      "text/plain": [
       "[1] 3"
      ]
     },
     "metadata": {},
     "output_type": "display_data"
    },
    {
     "data": {
      "text/html": [
       "3"
      ],
      "text/latex": [
       "3"
      ],
      "text/markdown": [
       "3"
      ],
      "text/plain": [
       "[1] 3"
      ]
     },
     "metadata": {},
     "output_type": "display_data"
    }
   ],
   "source": [
    "length(x)\n",
    "length(y)"
   ]
  },
  {
   "cell_type": "code",
   "execution_count": 4,
   "id": "81427720-a4fd-4ae5-875f-90371ce9335e",
   "metadata": {},
   "outputs": [
    {
     "data": {
      "text/html": [
       "<style>\n",
       ".list-inline {list-style: none; margin:0; padding: 0}\n",
       ".list-inline>li {display: inline-block}\n",
       ".list-inline>li:not(:last-child)::after {content: \"\\00b7\"; padding: 0 .5ex}\n",
       "</style>\n",
       "<ol class=list-inline><li>'x'</li><li>'y'</li></ol>\n"
      ],
      "text/latex": [
       "\\begin{enumerate*}\n",
       "\\item 'x'\n",
       "\\item 'y'\n",
       "\\end{enumerate*}\n"
      ],
      "text/markdown": [
       "1. 'x'\n",
       "2. 'y'\n",
       "\n",
       "\n"
      ],
      "text/plain": [
       "[1] \"x\" \"y\""
      ]
     },
     "metadata": {},
     "output_type": "display_data"
    }
   ],
   "source": [
    "ls ()"
   ]
  },
  {
   "cell_type": "code",
   "execution_count": 5,
   "id": "6fec8b08-8f87-4a1d-ac27-d9121a8f5629",
   "metadata": {},
   "outputs": [],
   "source": [
    "rm(x, y)"
   ]
  },
  {
   "cell_type": "code",
   "execution_count": 6,
   "id": "8f60d4fb-6704-49d9-afe4-50c58f658bc2",
   "metadata": {},
   "outputs": [
    {
     "data": {
      "text/html": [],
      "text/latex": [],
      "text/markdown": [],
      "text/plain": [
       "character(0)"
      ]
     },
     "metadata": {},
     "output_type": "display_data"
    }
   ],
   "source": [
    "ls ()"
   ]
  },
  {
   "cell_type": "code",
   "execution_count": 7,
   "id": "bda60ec3-406c-4935-ac83-2180793c1f91",
   "metadata": {},
   "outputs": [],
   "source": [
    "rm(list = ls ())"
   ]
  },
  {
   "cell_type": "code",
   "execution_count": 8,
   "id": "40d3d0ae-c159-4691-93f9-a495b7d37300",
   "metadata": {},
   "outputs": [
    {
     "data": {
      "text/html": [
       "\n",
       "<table width=\"100%\" summary=\"page for matrix {base}\"><tr><td>matrix {base}</td><td style=\"text-align: right;\">R Documentation</td></tr></table>\n",
       "\n",
       "<h2>Matrices</h2>\n",
       "\n",
       "<h3>Description</h3>\n",
       "\n",
       "<p><code>matrix</code> creates a matrix from the given set of values.\n",
       "</p>\n",
       "<p><code>as.matrix</code> attempts to turn its argument into a matrix.\n",
       "</p>\n",
       "<p><code>is.matrix</code> tests if its argument is a (strict) matrix.\n",
       "</p>\n",
       "\n",
       "\n",
       "<h3>Usage</h3>\n",
       "\n",
       "<pre>\n",
       "matrix(data = NA, nrow = 1, ncol = 1, byrow = FALSE,\n",
       "       dimnames = NULL)\n",
       "\n",
       "as.matrix(x, ...)\n",
       "## S3 method for class 'data.frame'\n",
       "as.matrix(x, rownames.force = NA, ...)\n",
       "\n",
       "is.matrix(x)\n",
       "</pre>\n",
       "\n",
       "\n",
       "<h3>Arguments</h3>\n",
       "\n",
       "<table summary=\"R argblock\">\n",
       "<tr valign=\"top\"><td><code>data</code></td>\n",
       "<td>\n",
       "<p>an optional data vector (including a list or\n",
       "<code>expression</code> vector).  Non-atomic classed <span style=\"font-family: Courier New, Courier; color: #666666;\"><b>R</b></span> objects are\n",
       "coerced by <code>as.vector</code> and all attributes discarded.</p>\n",
       "</td></tr>\n",
       "<tr valign=\"top\"><td><code>nrow</code></td>\n",
       "<td>\n",
       "<p>the desired number of rows.</p>\n",
       "</td></tr>\n",
       "<tr valign=\"top\"><td><code>ncol</code></td>\n",
       "<td>\n",
       "<p>the desired number of columns.</p>\n",
       "</td></tr>\n",
       "<tr valign=\"top\"><td><code>byrow</code></td>\n",
       "<td>\n",
       "<p>logical. If <code>FALSE</code> (the default) the matrix is\n",
       "filled by columns, otherwise the matrix is filled by rows.</p>\n",
       "</td></tr>\n",
       "<tr valign=\"top\"><td><code>dimnames</code></td>\n",
       "<td>\n",
       "<p>A <code>dimnames</code> attribute for the matrix:\n",
       "<code>NULL</code> or a <code>list</code> of length 2 giving the row and column\n",
       "names respectively.  An empty list is treated as <code>NULL</code>, and a\n",
       "list of length one as row names.  The list can be named, and the\n",
       "list names will be used as names for the dimensions.</p>\n",
       "</td></tr>\n",
       "<tr valign=\"top\"><td><code>x</code></td>\n",
       "<td>\n",
       "<p>an <span style=\"font-family: Courier New, Courier; color: #666666;\"><b>R</b></span> object.</p>\n",
       "</td></tr>\n",
       "<tr valign=\"top\"><td><code>...</code></td>\n",
       "<td>\n",
       "<p>additional arguments to be passed to or from methods.</p>\n",
       "</td></tr>\n",
       "<tr valign=\"top\"><td><code>rownames.force</code></td>\n",
       "<td>\n",
       "<p>logical indicating if the resulting matrix\n",
       "should have character (rather than <code>NULL</code>)\n",
       "<code>rownames</code>.  The default, <code>NA</code>, uses <code>NULL</code>\n",
       "rownames if the data frame has &lsquo;automatic&rsquo; row.names or for a\n",
       "zero-row data frame.</p>\n",
       "</td></tr>\n",
       "</table>\n",
       "\n",
       "\n",
       "<h3>Details</h3>\n",
       "\n",
       "<p>If one of <code>nrow</code> or <code>ncol</code> is not given, an attempt is\n",
       "made to infer it from the length of <code>data</code> and the other\n",
       "parameter.  If neither is given, a one-column matrix is returned.\n",
       "</p>\n",
       "<p>If there are too few elements in <code>data</code> to fill the matrix,\n",
       "then the elements in <code>data</code> are recycled.  If <code>data</code> has\n",
       "length zero, <code>NA</code> of an appropriate type is used for atomic\n",
       "vectors (<code>0</code> for raw vectors) and <code>NULL</code> for lists.\n",
       "</p>\n",
       "<p><code>is.matrix</code> returns <code>TRUE</code> if <code>x</code> is a vector and has a\n",
       "<code>\"dim\"</code> attribute of length 2 and <code>FALSE</code> otherwise.\n",
       "Note that a <code>data.frame</code> is <strong>not</strong> a matrix by this\n",
       "test.  The function is generic: you can write methods to handle\n",
       "specific classes of objects, see InternalMethods.\n",
       "</p>\n",
       "<p><code>as.matrix</code> is a generic function.  The method for data frames\n",
       "will return a character matrix if there is only atomic columns and any\n",
       "non-(numeric/logical/complex) column, applying <code>as.vector</code>\n",
       "to factors and <code>format</code> to other non-character columns.\n",
       "Otherwise, the usual coercion hierarchy (logical &lt; integer &lt; double &lt;\n",
       "complex) will be used, e.g., all-logical data frames will be coerced\n",
       "to a logical matrix, mixed logical-integer will give a integer matrix,\n",
       "etc.\n",
       "</p>\n",
       "<p>The default method for <code>as.matrix</code> calls <code>as.vector(x)</code>, and\n",
       "hence e.g. coerces factors to character vectors.\n",
       "</p>\n",
       "<p>When coercing a vector, it produces a one-column matrix, and\n",
       "promotes the names (if any) of the vector to the rownames of the matrix.\n",
       "</p>\n",
       "<p><code>is.matrix</code> is a primitive function.\n",
       "</p>\n",
       "<p>The <code>print</code> method for a matrix gives a rectangular layout with\n",
       "dimnames or indices.  For a list matrix, the entries of length not\n",
       "one are printed in  the form <span class=\"samp\">integer,7</span> indicating the type\n",
       "and length.\n",
       "</p>\n",
       "\n",
       "\n",
       "<h3>Note</h3>\n",
       "\n",
       "<p>If you just want to convert a vector to a matrix, something like\n",
       "</p>\n",
       "<pre>  dim(x) &lt;- c(nx, ny)\n",
       "  dimnames(x) &lt;- list(row_names, col_names)\n",
       "</pre>\n",
       "<p>will avoid duplicating <code>x</code> <em>and</em> preserve\n",
       "<code>class(x)</code> which may be useful, e.g.,\n",
       "for <code>Date</code> objects.\n",
       "</p>\n",
       "\n",
       "\n",
       "<h3>References</h3>\n",
       "\n",
       "<p>Becker, R. A., Chambers, J. M. and Wilks, A. R. (1988)\n",
       "<em>The New S Language</em>.\n",
       "Wadsworth &amp; Brooks/Cole.\n",
       "</p>\n",
       "\n",
       "\n",
       "<h3>See Also</h3>\n",
       "\n",
       "<p><code>data.matrix</code>, which attempts to convert to a numeric\n",
       "matrix.\n",
       "</p>\n",
       "<p>A matrix is the special case of a two-dimensional <code>array</code>.\n",
       "Since <span style=\"font-family: Courier New, Courier; color: #666666;\"><b>R</b></span> 4.0.0, <code>inherits(m, \"array\")</code> is true for a\n",
       "<code>matrix</code> <code>m</code>.\n",
       "</p>\n",
       "\n",
       "\n",
       "<h3>Examples</h3>\n",
       "\n",
       "<pre>\n",
       "is.matrix(as.matrix(1:10))\n",
       "!is.matrix(warpbreaks)  # data.frame, NOT matrix!\n",
       "warpbreaks[1:10,]\n",
       "as.matrix(warpbreaks[1:10,])  # using as.matrix.data.frame(.) method\n",
       "\n",
       "## Example of setting row and column names\n",
       "mdat &lt;- matrix(c(1,2,3, 11,12,13), nrow = 2, ncol = 3, byrow = TRUE,\n",
       "               dimnames = list(c(\"row1\", \"row2\"),\n",
       "                               c(\"C.1\", \"C.2\", \"C.3\")))\n",
       "mdat\n",
       "</pre>\n",
       "\n",
       "<hr /><div style=\"text-align: center;\">[Package <em>base</em> version 4.1.2 ]</div>"
      ],
      "text/latex": [
       "\\inputencoding{utf8}\n",
       "\\HeaderA{matrix}{Matrices}{matrix}\n",
       "\\aliasA{as.matrix}{matrix}{as.matrix}\n",
       "\\methaliasA{as.matrix.data.frame}{matrix}{as.matrix.data.frame}\n",
       "\\methaliasA{as.matrix.default}{matrix}{as.matrix.default}\n",
       "\\aliasA{is.matrix}{matrix}{is.matrix}\n",
       "\\keyword{array}{matrix}\n",
       "\\keyword{algebra}{matrix}\n",
       "%\n",
       "\\begin{Description}\\relax\n",
       "\\code{matrix} creates a matrix from the given set of values.\n",
       "\n",
       "\\code{as.matrix} attempts to turn its argument into a matrix.\n",
       "\n",
       "\\code{is.matrix} tests if its argument is a (strict) matrix.\n",
       "\\end{Description}\n",
       "%\n",
       "\\begin{Usage}\n",
       "\\begin{verbatim}\n",
       "matrix(data = NA, nrow = 1, ncol = 1, byrow = FALSE,\n",
       "       dimnames = NULL)\n",
       "\n",
       "as.matrix(x, ...)\n",
       "## S3 method for class 'data.frame'\n",
       "as.matrix(x, rownames.force = NA, ...)\n",
       "\n",
       "is.matrix(x)\n",
       "\\end{verbatim}\n",
       "\\end{Usage}\n",
       "%\n",
       "\\begin{Arguments}\n",
       "\\begin{ldescription}\n",
       "\\item[\\code{data}] an optional data vector (including a list or\n",
       "\\code{\\LinkA{expression}{expression}} vector).  Non-atomic classed \\R{} objects are\n",
       "coerced by \\code{\\LinkA{as.vector}{as.vector}} and all attributes discarded.\n",
       "\\item[\\code{nrow}] the desired number of rows.\n",
       "\\item[\\code{ncol}] the desired number of columns.\n",
       "\\item[\\code{byrow}] logical. If \\code{FALSE} (the default) the matrix is\n",
       "filled by columns, otherwise the matrix is filled by rows.\n",
       "\\item[\\code{dimnames}] A \\code{\\LinkA{dimnames}{dimnames}} attribute for the matrix:\n",
       "\\code{NULL} or a \\code{list} of length 2 giving the row and column\n",
       "names respectively.  An empty list is treated as \\code{NULL}, and a\n",
       "list of length one as row names.  The list can be named, and the\n",
       "list names will be used as names for the dimensions.\n",
       "\\item[\\code{x}] an \\R{} object.\n",
       "\\item[\\code{...}] additional arguments to be passed to or from methods.\n",
       "\\item[\\code{rownames.force}] logical indicating if the resulting matrix\n",
       "should have character (rather than \\code{NULL})\n",
       "\\code{\\LinkA{rownames}{rownames}}.  The default, \\code{NA}, uses \\code{NULL}\n",
       "rownames if the data frame has `automatic' row.names or for a\n",
       "zero-row data frame.\n",
       "\\end{ldescription}\n",
       "\\end{Arguments}\n",
       "%\n",
       "\\begin{Details}\\relax\n",
       "If one of \\code{nrow} or \\code{ncol} is not given, an attempt is\n",
       "made to infer it from the length of \\code{data} and the other\n",
       "parameter.  If neither is given, a one-column matrix is returned.\n",
       "\n",
       "If there are too few elements in \\code{data} to fill the matrix,\n",
       "then the elements in \\code{data} are recycled.  If \\code{data} has\n",
       "length zero, \\code{NA} of an appropriate type is used for atomic\n",
       "vectors (\\code{0} for raw vectors) and \\code{NULL} for lists.\n",
       "\n",
       "\\code{is.matrix} returns \\code{TRUE} if \\code{x} is a vector and has a\n",
       "\\code{\"\\LinkA{dim}{dim}\"} attribute of length 2 and \\code{FALSE} otherwise.\n",
       "Note that a \\code{\\LinkA{data.frame}{data.frame}} is \\strong{not} a matrix by this\n",
       "test.  The function is generic: you can write methods to handle\n",
       "specific classes of objects, see \\LinkA{InternalMethods}{InternalMethods}.\n",
       "\n",
       "\\code{as.matrix} is a generic function.  The method for data frames\n",
       "will return a character matrix if there is only atomic columns and any\n",
       "non-(numeric/logical/complex) column, applying \\code{\\LinkA{as.vector}{as.vector}}\n",
       "to factors and \\code{\\LinkA{format}{format}} to other non-character columns.\n",
       "Otherwise, the usual coercion hierarchy (logical < integer < double <\n",
       "complex) will be used, e.g., all-logical data frames will be coerced\n",
       "to a logical matrix, mixed logical-integer will give a integer matrix,\n",
       "etc.\n",
       "\n",
       "The default method for \\code{as.matrix} calls \\code{as.vector(x)}, and\n",
       "hence e.g.~coerces factors to character vectors.\n",
       "\n",
       "When coercing a vector, it produces a one-column matrix, and\n",
       "promotes the names (if any) of the vector to the rownames of the matrix.\n",
       "\n",
       "\\code{is.matrix} is a \\LinkA{primitive}{primitive} function.\n",
       "\n",
       "The \\code{print} method for a matrix gives a rectangular layout with\n",
       "dimnames or indices.  For a list matrix, the entries of length not\n",
       "one are printed in  the form \\samp{integer,7} indicating the type\n",
       "and length.\n",
       "\\end{Details}\n",
       "%\n",
       "\\begin{Note}\\relax\n",
       "If you just want to convert a vector to a matrix, something like\n",
       "\\begin{alltt}  dim(x) <- c(nx, ny)\n",
       "  dimnames(x) <- list(row_names, col_names)\n",
       "\\end{alltt}\n",
       "\n",
       "will avoid duplicating \\code{x} \\emph{and} preserve\n",
       "\\code{\\LinkA{class}{class}(x)} which may be useful, e.g.,\n",
       "for \\code{\\LinkA{Date}{Date}} objects.\n",
       "\\end{Note}\n",
       "%\n",
       "\\begin{References}\\relax\n",
       "Becker, R. A., Chambers, J. M. and Wilks, A. R. (1988)\n",
       "\\emph{The New S Language}.\n",
       "Wadsworth \\& Brooks/Cole.\n",
       "\\end{References}\n",
       "%\n",
       "\\begin{SeeAlso}\\relax\n",
       "\\code{\\LinkA{data.matrix}{data.matrix}}, which attempts to convert to a numeric\n",
       "matrix.\n",
       "\n",
       "A matrix is the special case of a two-dimensional \\code{\\LinkA{array}{array}}.\n",
       "Since \\R{} 4.0.0, \\code{\\LinkA{inherits}{inherits}(m, \"array\")} is true for a\n",
       "\\code{matrix} \\code{m}.\n",
       "\\end{SeeAlso}\n",
       "%\n",
       "\\begin{Examples}\n",
       "\\begin{ExampleCode}\n",
       "is.matrix(as.matrix(1:10))\n",
       "!is.matrix(warpbreaks)  # data.frame, NOT matrix!\n",
       "warpbreaks[1:10,]\n",
       "as.matrix(warpbreaks[1:10,])  # using as.matrix.data.frame(.) method\n",
       "\n",
       "## Example of setting row and column names\n",
       "mdat <- matrix(c(1,2,3, 11,12,13), nrow = 2, ncol = 3, byrow = TRUE,\n",
       "               dimnames = list(c(\"row1\", \"row2\"),\n",
       "                               c(\"C.1\", \"C.2\", \"C.3\")))\n",
       "mdat\n",
       "\\end{ExampleCode}\n",
       "\\end{Examples}"
      ],
      "text/plain": [
       "matrix                  package:base                   R Documentation\n",
       "\n",
       "_\bM_\ba_\bt_\br_\bi_\bc_\be_\bs\n",
       "\n",
       "_\bD_\be_\bs_\bc_\br_\bi_\bp_\bt_\bi_\bo_\bn:\n",
       "\n",
       "     'matrix' creates a matrix from the given set of values.\n",
       "\n",
       "     'as.matrix' attempts to turn its argument into a matrix.\n",
       "\n",
       "     'is.matrix' tests if its argument is a (strict) matrix.\n",
       "\n",
       "_\bU_\bs_\ba_\bg_\be:\n",
       "\n",
       "     matrix(data = NA, nrow = 1, ncol = 1, byrow = FALSE,\n",
       "            dimnames = NULL)\n",
       "     \n",
       "     as.matrix(x, ...)\n",
       "     ## S3 method for class 'data.frame'\n",
       "     as.matrix(x, rownames.force = NA, ...)\n",
       "     \n",
       "     is.matrix(x)\n",
       "     \n",
       "_\bA_\br_\bg_\bu_\bm_\be_\bn_\bt_\bs:\n",
       "\n",
       "    data: an optional data vector (including a list or 'expression'\n",
       "          vector).  Non-atomic classed R objects are coerced by\n",
       "          'as.vector' and all attributes discarded.\n",
       "\n",
       "    nrow: the desired number of rows.\n",
       "\n",
       "    ncol: the desired number of columns.\n",
       "\n",
       "   byrow: logical. If 'FALSE' (the default) the matrix is filled by\n",
       "          columns, otherwise the matrix is filled by rows.\n",
       "\n",
       "dimnames: A 'dimnames' attribute for the matrix: 'NULL' or a 'list' of\n",
       "          length 2 giving the row and column names respectively.  An\n",
       "          empty list is treated as 'NULL', and a list of length one as\n",
       "          row names.  The list can be named, and the list names will be\n",
       "          used as names for the dimensions.\n",
       "\n",
       "       x: an R object.\n",
       "\n",
       "     ...: additional arguments to be passed to or from methods.\n",
       "\n",
       "rownames.force: logical indicating if the resulting matrix should have\n",
       "          character (rather than 'NULL') 'rownames'.  The default,\n",
       "          'NA', uses 'NULL' rownames if the data frame has 'automatic'\n",
       "          row.names or for a zero-row data frame.\n",
       "\n",
       "_\bD_\be_\bt_\ba_\bi_\bl_\bs:\n",
       "\n",
       "     If one of 'nrow' or 'ncol' is not given, an attempt is made to\n",
       "     infer it from the length of 'data' and the other parameter.  If\n",
       "     neither is given, a one-column matrix is returned.\n",
       "\n",
       "     If there are too few elements in 'data' to fill the matrix, then\n",
       "     the elements in 'data' are recycled.  If 'data' has length zero,\n",
       "     'NA' of an appropriate type is used for atomic vectors ('0' for\n",
       "     raw vectors) and 'NULL' for lists.\n",
       "\n",
       "     'is.matrix' returns 'TRUE' if 'x' is a vector and has a '\"dim\"'\n",
       "     attribute of length 2 and 'FALSE' otherwise.  Note that a\n",
       "     'data.frame' is *not* a matrix by this test.  The function is\n",
       "     generic: you can write methods to handle specific classes of\n",
       "     objects, see InternalMethods.\n",
       "\n",
       "     'as.matrix' is a generic function.  The method for data frames\n",
       "     will return a character matrix if there is only atomic columns and\n",
       "     any non-(numeric/logical/complex) column, applying 'as.vector' to\n",
       "     factors and 'format' to other non-character columns.  Otherwise,\n",
       "     the usual coercion hierarchy (logical < integer < double <\n",
       "     complex) will be used, e.g., all-logical data frames will be\n",
       "     coerced to a logical matrix, mixed logical-integer will give a\n",
       "     integer matrix, etc.\n",
       "\n",
       "     The default method for 'as.matrix' calls 'as.vector(x)', and hence\n",
       "     e.g. coerces factors to character vectors.\n",
       "\n",
       "     When coercing a vector, it produces a one-column matrix, and\n",
       "     promotes the names (if any) of the vector to the rownames of the\n",
       "     matrix.\n",
       "\n",
       "     'is.matrix' is a primitive function.\n",
       "\n",
       "     The 'print' method for a matrix gives a rectangular layout with\n",
       "     dimnames or indices.  For a list matrix, the entries of length not\n",
       "     one are printed in the form 'integer,7' indicating the type and\n",
       "     length.\n",
       "\n",
       "_\bN_\bo_\bt_\be:\n",
       "\n",
       "     If you just want to convert a vector to a matrix, something like\n",
       "\n",
       "       dim(x) <- c(nx, ny)\n",
       "       dimnames(x) <- list(row_names, col_names)\n",
       "     \n",
       "     will avoid duplicating 'x' _and_ preserve 'class(x)' which may be\n",
       "     useful, e.g., for 'Date' objects.\n",
       "\n",
       "_\bR_\be_\bf_\be_\br_\be_\bn_\bc_\be_\bs:\n",
       "\n",
       "     Becker, R. A., Chambers, J. M. and Wilks, A. R. (1988) _The New S\n",
       "     Language_.  Wadsworth & Brooks/Cole.\n",
       "\n",
       "_\bS_\be_\be _\bA_\bl_\bs_\bo:\n",
       "\n",
       "     'data.matrix', which attempts to convert to a numeric matrix.\n",
       "\n",
       "     A matrix is the special case of a two-dimensional 'array'.  Since\n",
       "     R 4.0.0, 'inherits(m, \"array\")' is true for a 'matrix' 'm'.\n",
       "\n",
       "_\bE_\bx_\ba_\bm_\bp_\bl_\be_\bs:\n",
       "\n",
       "     is.matrix(as.matrix(1:10))\n",
       "     !is.matrix(warpbreaks)  # data.frame, NOT matrix!\n",
       "     warpbreaks[1:10,]\n",
       "     as.matrix(warpbreaks[1:10,])  # using as.matrix.data.frame(.) method\n",
       "     \n",
       "     ## Example of setting row and column names\n",
       "     mdat <- matrix(c(1,2,3, 11,12,13), nrow = 2, ncol = 3, byrow = TRUE,\n",
       "                    dimnames = list(c(\"row1\", \"row2\"),\n",
       "                                    c(\"C.1\", \"C.2\", \"C.3\")))\n",
       "     mdat\n",
       "     "
      ]
     },
     "metadata": {},
     "output_type": "display_data"
    }
   ],
   "source": [
    "?matrix"
   ]
  },
  {
   "cell_type": "code",
   "execution_count": 9,
   "id": "437e422a-6f7a-4543-97cf-eeaa58c45d82",
   "metadata": {},
   "outputs": [
    {
     "data": {
      "text/html": [
       "<table class=\"dataframe\">\n",
       "<caption>A matrix: 2 × 2 of type dbl</caption>\n",
       "<tbody>\n",
       "\t<tr><td>1</td><td>3</td></tr>\n",
       "\t<tr><td>2</td><td>4</td></tr>\n",
       "</tbody>\n",
       "</table>\n"
      ],
      "text/latex": [
       "A matrix: 2 × 2 of type dbl\n",
       "\\begin{tabular}{ll}\n",
       "\t 1 & 3\\\\\n",
       "\t 2 & 4\\\\\n",
       "\\end{tabular}\n"
      ],
      "text/markdown": [
       "\n",
       "A matrix: 2 × 2 of type dbl\n",
       "\n",
       "| 1 | 3 |\n",
       "| 2 | 4 |\n",
       "\n"
      ],
      "text/plain": [
       "     [,1] [,2]\n",
       "[1,] 1    3   \n",
       "[2,] 2    4   "
      ]
     },
     "metadata": {},
     "output_type": "display_data"
    }
   ],
   "source": [
    "x <- matrix (data = c(1, 2, 3, 4), nrow = 2, ncol = 2)\n",
    "x"
   ]
  },
  {
   "cell_type": "code",
   "execution_count": 10,
   "id": "b7c203c7-ce6f-4962-b58b-5c283d4ff9d3",
   "metadata": {},
   "outputs": [],
   "source": [
    "## Note that we could just as well omit typing data=, nrow=, and ncol= in the matrix() command above: that is, we could just type"
   ]
  },
  {
   "cell_type": "code",
   "execution_count": 11,
   "id": "ef32cb9c-04fa-4f02-abda-184fbfc4a4c7",
   "metadata": {},
   "outputs": [],
   "source": [
    "x <- matrix (c(1, 2, 3, 4), 2, 2)"
   ]
  },
  {
   "cell_type": "code",
   "execution_count": 12,
   "id": "d6a81a46-d83e-4ec1-8028-191e29a1faed",
   "metadata": {},
   "outputs": [
    {
     "data": {
      "text/html": [
       "<table class=\"dataframe\">\n",
       "<caption>A matrix: 2 × 2 of type dbl</caption>\n",
       "<tbody>\n",
       "\t<tr><td>1</td><td>2</td></tr>\n",
       "\t<tr><td>3</td><td>4</td></tr>\n",
       "</tbody>\n",
       "</table>\n"
      ],
      "text/latex": [
       "A matrix: 2 × 2 of type dbl\n",
       "\\begin{tabular}{ll}\n",
       "\t 1 & 2\\\\\n",
       "\t 3 & 4\\\\\n",
       "\\end{tabular}\n"
      ],
      "text/markdown": [
       "\n",
       "A matrix: 2 × 2 of type dbl\n",
       "\n",
       "| 1 | 2 |\n",
       "| 3 | 4 |\n",
       "\n"
      ],
      "text/plain": [
       "     [,1] [,2]\n",
       "[1,] 1    2   \n",
       "[2,] 3    4   "
      ]
     },
     "metadata": {},
     "output_type": "display_data"
    }
   ],
   "source": [
    "matrix (c(1, 2, 3, 4), 2, 2, byrow = TRUE)"
   ]
  },
  {
   "cell_type": "code",
   "execution_count": 13,
   "id": "562bec4d-5046-40af-9701-299fc8303626",
   "metadata": {},
   "outputs": [
    {
     "data": {
      "text/html": [
       "<table class=\"dataframe\">\n",
       "<caption>A matrix: 2 × 2 of type dbl</caption>\n",
       "<tbody>\n",
       "\t<tr><td>1.000000</td><td>1.732051</td></tr>\n",
       "\t<tr><td>1.414214</td><td>2.000000</td></tr>\n",
       "</tbody>\n",
       "</table>\n"
      ],
      "text/latex": [
       "A matrix: 2 × 2 of type dbl\n",
       "\\begin{tabular}{ll}\n",
       "\t 1.000000 & 1.732051\\\\\n",
       "\t 1.414214 & 2.000000\\\\\n",
       "\\end{tabular}\n"
      ],
      "text/markdown": [
       "\n",
       "A matrix: 2 × 2 of type dbl\n",
       "\n",
       "| 1.000000 | 1.732051 |\n",
       "| 1.414214 | 2.000000 |\n",
       "\n"
      ],
      "text/plain": [
       "     [,1]     [,2]    \n",
       "[1,] 1.000000 1.732051\n",
       "[2,] 1.414214 2.000000"
      ]
     },
     "metadata": {},
     "output_type": "display_data"
    }
   ],
   "source": [
    "sqrt (x)"
   ]
  },
  {
   "cell_type": "code",
   "execution_count": 14,
   "id": "c3ab1e40-1338-41ee-a091-3d512dee6961",
   "metadata": {},
   "outputs": [],
   "source": [
    "x <- rnorm (50)"
   ]
  },
  {
   "cell_type": "code",
   "execution_count": 15,
   "id": "3fc4c1ba-f460-4274-85be-2e32b025b165",
   "metadata": {},
   "outputs": [],
   "source": [
    "y <- x + rnorm (50, mean = 50, sd = .1)"
   ]
  },
  {
   "cell_type": "code",
   "execution_count": 16,
   "id": "fd656c9b-bb6c-42fb-b1cc-d6361fc8408a",
   "metadata": {},
   "outputs": [
    {
     "data": {
      "text/html": [
       "0.996443920633395"
      ],
      "text/latex": [
       "0.996443920633395"
      ],
      "text/markdown": [
       "0.996443920633395"
      ],
      "text/plain": [
       "[1] 0.9964439"
      ]
     },
     "metadata": {},
     "output_type": "display_data"
    }
   ],
   "source": [
    "cor (x, y)"
   ]
  },
  {
   "cell_type": "code",
   "execution_count": null,
   "id": "65153d67-f701-464f-9c4e-ae9e5efce541",
   "metadata": {},
   "outputs": [],
   "source": []
  },
  {
   "cell_type": "code",
   "execution_count": 17,
   "id": "38551254-4ac5-4345-83fc-cb115a23aaf2",
   "metadata": {},
   "outputs": [],
   "source": [
    "set.seed (1303)"
   ]
  },
  {
   "cell_type": "code",
   "execution_count": 18,
   "id": "bdd89ace-9736-401e-945e-61ed93a230f8",
   "metadata": {},
   "outputs": [
    {
     "data": {
      "text/html": [
       "<style>\n",
       ".list-inline {list-style: none; margin:0; padding: 0}\n",
       ".list-inline>li {display: inline-block}\n",
       ".list-inline>li:not(:last-child)::after {content: \"\\00b7\"; padding: 0 .5ex}\n",
       "</style>\n",
       "<ol class=list-inline><li>-1.14397631447974</li><li>1.34212936561501</li><li>2.18539047574276</li><li>0.536392517923731</li><li>0.0631929664685468</li><li>0.502234482468979</li><li>-0.000416724686432643</li><li>0.565819840539162</li><li>-0.572522688962623</li><li>-1.11022500727696</li><li>-0.0486871233624514</li><li>-0.695656217619366</li><li>0.828917480303335</li><li>0.206652855081802</li><li>-0.235674509102427</li><li>-0.556310491381104</li><li>-0.364754357080585</li><li>0.862355034263622</li><li>-0.63077153536771</li><li>0.313602125215739</li><li>-0.931495317661393</li><li>0.823867618473952</li><li>0.523370702077482</li><li>0.706921411979056</li><li>0.420204325601679</li><li>-0.269052154682033</li><li>-1.51031729990999</li><li>-0.69021247657504</li><li>-0.143471952443572</li><li>-1.0135274099044</li><li>1.57327373614751</li><li>0.0127465054882014</li><li>0.872647049887217</li><li>0.422066190530336</li><li>-0.0188157916578866</li><li>2.61574896890584</li><li>-0.693140174826871</li><li>-0.266321780991085</li><li>-0.720636441231524</li><li>1.36773420645149</li><li>0.264007332160512</li><li>0.632186807367191</li><li>-1.33065098578719</li><li>0.0268888182209596</li><li>1.0406363207788</li><li>1.31202379854711</li><li>-0.0300020766733214</li><li>-0.250025712488174</li><li>0.0234144856913592</li><li>1.65987065574227</li></ol>\n"
      ],
      "text/latex": [
       "\\begin{enumerate*}\n",
       "\\item -1.14397631447974\n",
       "\\item 1.34212936561501\n",
       "\\item 2.18539047574276\n",
       "\\item 0.536392517923731\n",
       "\\item 0.0631929664685468\n",
       "\\item 0.502234482468979\n",
       "\\item -0.000416724686432643\n",
       "\\item 0.565819840539162\n",
       "\\item -0.572522688962623\n",
       "\\item -1.11022500727696\n",
       "\\item -0.0486871233624514\n",
       "\\item -0.695656217619366\n",
       "\\item 0.828917480303335\n",
       "\\item 0.206652855081802\n",
       "\\item -0.235674509102427\n",
       "\\item -0.556310491381104\n",
       "\\item -0.364754357080585\n",
       "\\item 0.862355034263622\n",
       "\\item -0.63077153536771\n",
       "\\item 0.313602125215739\n",
       "\\item -0.931495317661393\n",
       "\\item 0.823867618473952\n",
       "\\item 0.523370702077482\n",
       "\\item 0.706921411979056\n",
       "\\item 0.420204325601679\n",
       "\\item -0.269052154682033\n",
       "\\item -1.51031729990999\n",
       "\\item -0.69021247657504\n",
       "\\item -0.143471952443572\n",
       "\\item -1.0135274099044\n",
       "\\item 1.57327373614751\n",
       "\\item 0.0127465054882014\n",
       "\\item 0.872647049887217\n",
       "\\item 0.422066190530336\n",
       "\\item -0.0188157916578866\n",
       "\\item 2.61574896890584\n",
       "\\item -0.693140174826871\n",
       "\\item -0.266321780991085\n",
       "\\item -0.720636441231524\n",
       "\\item 1.36773420645149\n",
       "\\item 0.264007332160512\n",
       "\\item 0.632186807367191\n",
       "\\item -1.33065098578719\n",
       "\\item 0.0268888182209596\n",
       "\\item 1.0406363207788\n",
       "\\item 1.31202379854711\n",
       "\\item -0.0300020766733214\n",
       "\\item -0.250025712488174\n",
       "\\item 0.0234144856913592\n",
       "\\item 1.65987065574227\n",
       "\\end{enumerate*}\n"
      ],
      "text/markdown": [
       "1. -1.14397631447974\n",
       "2. 1.34212936561501\n",
       "3. 2.18539047574276\n",
       "4. 0.536392517923731\n",
       "5. 0.0631929664685468\n",
       "6. 0.502234482468979\n",
       "7. -0.000416724686432643\n",
       "8. 0.565819840539162\n",
       "9. -0.572522688962623\n",
       "10. -1.11022500727696\n",
       "11. -0.0486871233624514\n",
       "12. -0.695656217619366\n",
       "13. 0.828917480303335\n",
       "14. 0.206652855081802\n",
       "15. -0.235674509102427\n",
       "16. -0.556310491381104\n",
       "17. -0.364754357080585\n",
       "18. 0.862355034263622\n",
       "19. -0.63077153536771\n",
       "20. 0.313602125215739\n",
       "21. -0.931495317661393\n",
       "22. 0.823867618473952\n",
       "23. 0.523370702077482\n",
       "24. 0.706921411979056\n",
       "25. 0.420204325601679\n",
       "26. -0.269052154682033\n",
       "27. -1.51031729990999\n",
       "28. -0.69021247657504\n",
       "29. -0.143471952443572\n",
       "30. -1.0135274099044\n",
       "31. 1.57327373614751\n",
       "32. 0.0127465054882014\n",
       "33. 0.872647049887217\n",
       "34. 0.422066190530336\n",
       "35. -0.0188157916578866\n",
       "36. 2.61574896890584\n",
       "37. -0.693140174826871\n",
       "38. -0.266321780991085\n",
       "39. -0.720636441231524\n",
       "40. 1.36773420645149\n",
       "41. 0.264007332160512\n",
       "42. 0.632186807367191\n",
       "43. -1.33065098578719\n",
       "44. 0.0268888182209596\n",
       "45. 1.0406363207788\n",
       "46. 1.31202379854711\n",
       "47. -0.0300020766733214\n",
       "48. -0.250025712488174\n",
       "49. 0.0234144856913592\n",
       "50. 1.65987065574227\n",
       "\n",
       "\n"
      ],
      "text/plain": [
       " [1] -1.1439763145  1.3421293656  2.1853904757  0.5363925179  0.0631929665\n",
       " [6]  0.5022344825 -0.0004167247  0.5658198405 -0.5725226890 -1.1102250073\n",
       "[11] -0.0486871234 -0.6956562176  0.8289174803  0.2066528551 -0.2356745091\n",
       "[16] -0.5563104914 -0.3647543571  0.8623550343 -0.6307715354  0.3136021252\n",
       "[21] -0.9314953177  0.8238676185  0.5233707021  0.7069214120  0.4202043256\n",
       "[26] -0.2690521547 -1.5103172999 -0.6902124766 -0.1434719524 -1.0135274099\n",
       "[31]  1.5732737361  0.0127465055  0.8726470499  0.4220661905 -0.0188157917\n",
       "[36]  2.6157489689 -0.6931401748 -0.2663217810 -0.7206364412  1.3677342065\n",
       "[41]  0.2640073322  0.6321868074 -1.3306509858  0.0268888182  1.0406363208\n",
       "[46]  1.3120237985 -0.0300020767 -0.2500257125  0.0234144857  1.6598706557"
      ]
     },
     "metadata": {},
     "output_type": "display_data"
    }
   ],
   "source": [
    "rnorm (50)"
   ]
  },
  {
   "cell_type": "code",
   "execution_count": null,
   "id": "2b5f1352-7871-4bd5-af00-8ebee6734016",
   "metadata": {},
   "outputs": [],
   "source": []
  },
  {
   "cell_type": "code",
   "execution_count": 19,
   "id": "73dbae38-d94b-47d9-b655-c9552f0826e0",
   "metadata": {},
   "outputs": [],
   "source": [
    "set.seed (3)"
   ]
  },
  {
   "cell_type": "code",
   "execution_count": 20,
   "id": "96f13016-315b-4456-98cc-e668fd7369a1",
   "metadata": {},
   "outputs": [],
   "source": [
    "y <- rnorm (100)"
   ]
  },
  {
   "cell_type": "code",
   "execution_count": 21,
   "id": "56bc8d5a-e116-4cce-bb74-5298ea7af779",
   "metadata": {},
   "outputs": [
    {
     "data": {
      "text/html": [
       "0.0110355710943715"
      ],
      "text/latex": [
       "0.0110355710943715"
      ],
      "text/markdown": [
       "0.0110355710943715"
      ],
      "text/plain": [
       "[1] 0.01103557"
      ]
     },
     "metadata": {},
     "output_type": "display_data"
    }
   ],
   "source": [
    "mean (y)"
   ]
  },
  {
   "cell_type": "code",
   "execution_count": 22,
   "id": "7a483b04-3517-47db-bf77-15098d987cb3",
   "metadata": {},
   "outputs": [
    {
     "data": {
      "text/html": [
       "0.732867501277449"
      ],
      "text/latex": [
       "0.732867501277449"
      ],
      "text/markdown": [
       "0.732867501277449"
      ],
      "text/plain": [
       "[1] 0.7328675"
      ]
     },
     "metadata": {},
     "output_type": "display_data"
    }
   ],
   "source": [
    "var (y)"
   ]
  },
  {
   "cell_type": "code",
   "execution_count": 23,
   "id": "0bd7af28-7d49-42bd-900f-9da0e1303a22",
   "metadata": {},
   "outputs": [
    {
     "data": {
      "text/html": [
       "0.856076808047881"
      ],
      "text/latex": [
       "0.856076808047881"
      ],
      "text/markdown": [
       "0.856076808047881"
      ],
      "text/plain": [
       "[1] 0.8560768"
      ]
     },
     "metadata": {},
     "output_type": "display_data"
    }
   ],
   "source": [
    "sqrt ( var (y))"
   ]
  },
  {
   "cell_type": "code",
   "execution_count": 24,
   "id": "59ad0859-24b3-42cd-b88c-ad17b2eb1012",
   "metadata": {},
   "outputs": [
    {
     "data": {
      "text/html": [
       "0.856076808047881"
      ],
      "text/latex": [
       "0.856076808047881"
      ],
      "text/markdown": [
       "0.856076808047881"
      ],
      "text/plain": [
       "[1] 0.8560768"
      ]
     },
     "metadata": {},
     "output_type": "display_data"
    }
   ],
   "source": [
    "sd(y)"
   ]
  },
  {
   "cell_type": "code",
   "execution_count": null,
   "id": "c0745af4-cceb-4479-a55b-52d228eb2cb6",
   "metadata": {},
   "outputs": [],
   "source": []
  },
  {
   "cell_type": "markdown",
   "id": "7eceed87-b337-40e3-b8d0-32d505d1dc76",
   "metadata": {},
   "source": [
    "#### 2.3.2 Graphics"
   ]
  },
  {
   "cell_type": "code",
   "execution_count": 27,
   "id": "af7ad4a9-e38c-4dc7-8f70-15aa81206989",
   "metadata": {},
   "outputs": [
    {
     "data": {
      "image/png": "[encoded data removed]",
      "text/plain": [
       "Plot with title \"Plot of X vs Y\""
      ]
     },
     "metadata": {
      "image/png": {
       "height": 420,
       "width": 420
      }
     },
     "output_type": "display_data"
    }
   ],
   "source": [
    "x <- rnorm (100)\n",
    "y <- rnorm (100)\n",
    "plot (x, y, xlab = \" this is the x- axis \",\n",
    "ylab = \"this is the y-axis\",\n",
    "main = \"Plot of X vs Y\")"
   ]
  },
  {
   "cell_type": "code",
   "execution_count": 28,
   "id": "ebcf0f33-4d29-4171-b127-3bbac1de0e11",
   "metadata": {},
   "outputs": [
    {
     "data": {
      "text/html": [
       "<strong>png:</strong> 2"
      ],
      "text/latex": [
       "\\textbf{png:} 2"
      ],
      "text/markdown": [
       "**png:** 2"
      ],
      "text/plain": [
       "png \n",
       "  2 "
      ]
     },
     "metadata": {},
     "output_type": "display_data"
    }
   ],
   "source": [
    "pdf(\"Figure.pdf\")\n",
    "plot(x, y, col = \"red\")\n",
    "dev.off()"
   ]
  },
  {
   "cell_type": "code",
   "execution_count": null,
   "id": "5db7b794-95ff-4deb-a99f-1a4a569dc20f",
   "metadata": {},
   "outputs": [],
   "source": []
  },
  {
   "cell_type": "code",
   "execution_count": 29,
   "id": "689c4132-3316-4d1d-8506-e47d28d46bed",
   "metadata": {},
   "outputs": [
    {
     "data": {
      "text/html": [
       "<style>\n",
       ".list-inline {list-style: none; margin:0; padding: 0}\n",
       ".list-inline>li {display: inline-block}\n",
       ".list-inline>li:not(:last-child)::after {content: \"\\00b7\"; padding: 0 .5ex}\n",
       "</style>\n",
       "<ol class=list-inline><li>1</li><li>2</li><li>3</li><li>4</li><li>5</li><li>6</li><li>7</li><li>8</li><li>9</li><li>10</li></ol>\n"
      ],
      "text/latex": [
       "\\begin{enumerate*}\n",
       "\\item 1\n",
       "\\item 2\n",
       "\\item 3\n",
       "\\item 4\n",
       "\\item 5\n",
       "\\item 6\n",
       "\\item 7\n",
       "\\item 8\n",
       "\\item 9\n",
       "\\item 10\n",
       "\\end{enumerate*}\n"
      ],
      "text/markdown": [
       "1. 1\n",
       "2. 2\n",
       "3. 3\n",
       "4. 4\n",
       "5. 5\n",
       "6. 6\n",
       "7. 7\n",
       "8. 8\n",
       "9. 9\n",
       "10. 10\n",
       "\n",
       "\n"
      ],
      "text/plain": [
       " [1]  1  2  3  4  5  6  7  8  9 10"
      ]
     },
     "metadata": {},
     "output_type": "display_data"
    },
    {
     "data": {
      "text/html": [
       "<style>\n",
       ".list-inline {list-style: none; margin:0; padding: 0}\n",
       ".list-inline>li {display: inline-block}\n",
       ".list-inline>li:not(:last-child)::after {content: \"\\00b7\"; padding: 0 .5ex}\n",
       "</style>\n",
       "<ol class=list-inline><li>1</li><li>2</li><li>3</li><li>4</li><li>5</li><li>6</li><li>7</li><li>8</li><li>9</li><li>10</li></ol>\n"
      ],
      "text/latex": [
       "\\begin{enumerate*}\n",
       "\\item 1\n",
       "\\item 2\n",
       "\\item 3\n",
       "\\item 4\n",
       "\\item 5\n",
       "\\item 6\n",
       "\\item 7\n",
       "\\item 8\n",
       "\\item 9\n",
       "\\item 10\n",
       "\\end{enumerate*}\n"
      ],
      "text/markdown": [
       "1. 1\n",
       "2. 2\n",
       "3. 3\n",
       "4. 4\n",
       "5. 5\n",
       "6. 6\n",
       "7. 7\n",
       "8. 8\n",
       "9. 9\n",
       "10. 10\n",
       "\n",
       "\n"
      ],
      "text/plain": [
       " [1]  1  2  3  4  5  6  7  8  9 10"
      ]
     },
     "metadata": {},
     "output_type": "display_data"
    },
    {
     "data": {
      "text/html": [
       "<style>\n",
       ".list-inline {list-style: none; margin:0; padding: 0}\n",
       ".list-inline>li {display: inline-block}\n",
       ".list-inline>li:not(:last-child)::after {content: \"\\00b7\"; padding: 0 .5ex}\n",
       "</style>\n",
       "<ol class=list-inline><li>-3.14159265358979</li><li>-3.0133643820147</li><li>-2.88513611043961</li><li>-2.75690783886451</li><li>-2.62867956728942</li><li>-2.50045129571433</li><li>-2.37222302413923</li><li>-2.24399475256414</li><li>-2.11576648098904</li><li>-1.98753820941395</li><li>-1.85930993783886</li><li>-1.73108166626376</li><li>-1.60285339468867</li><li>-1.47462512311358</li><li>-1.34639685153848</li><li>-1.21816857996339</li><li>-1.0899403083883</li><li>-0.961712036813202</li><li>-0.833483765238109</li><li>-0.705255493663015</li><li>-0.577027222087922</li><li>-0.448798950512828</li><li>-0.320570678937734</li><li>-0.192342407362641</li><li>-0.064114135787547</li><li>0.0641141357875465</li><li>0.19234240736264</li><li>0.320570678937734</li><li>0.448798950512828</li><li>0.577027222087921</li><li>0.705255493663015</li><li>0.833483765238108</li><li>0.961712036813202</li><li>1.0899403083883</li><li>1.21816857996339</li><li>1.34639685153848</li><li>1.47462512311358</li><li>1.60285339468867</li><li>1.73108166626376</li><li>1.85930993783886</li><li>1.98753820941395</li><li>2.11576648098904</li><li>2.24399475256414</li><li>2.37222302413923</li><li>2.50045129571433</li><li>2.62867956728942</li><li>2.75690783886451</li><li>2.88513611043961</li><li>3.0133643820147</li><li>3.14159265358979</li></ol>\n"
      ],
      "text/latex": [
       "\\begin{enumerate*}\n",
       "\\item -3.14159265358979\n",
       "\\item -3.0133643820147\n",
       "\\item -2.88513611043961\n",
       "\\item -2.75690783886451\n",
       "\\item -2.62867956728942\n",
       "\\item -2.50045129571433\n",
       "\\item -2.37222302413923\n",
       "\\item -2.24399475256414\n",
       "\\item -2.11576648098904\n",
       "\\item -1.98753820941395\n",
       "\\item -1.85930993783886\n",
       "\\item -1.73108166626376\n",
       "\\item -1.60285339468867\n",
       "\\item -1.47462512311358\n",
       "\\item -1.34639685153848\n",
       "\\item -1.21816857996339\n",
       "\\item -1.0899403083883\n",
       "\\item -0.961712036813202\n",
       "\\item -0.833483765238109\n",
       "\\item -0.705255493663015\n",
       "\\item -0.577027222087922\n",
       "\\item -0.448798950512828\n",
       "\\item -0.320570678937734\n",
       "\\item -0.192342407362641\n",
       "\\item -0.064114135787547\n",
       "\\item 0.0641141357875465\n",
       "\\item 0.19234240736264\n",
       "\\item 0.320570678937734\n",
       "\\item 0.448798950512828\n",
       "\\item 0.577027222087921\n",
       "\\item 0.705255493663015\n",
       "\\item 0.833483765238108\n",
       "\\item 0.961712036813202\n",
       "\\item 1.0899403083883\n",
       "\\item 1.21816857996339\n",
       "\\item 1.34639685153848\n",
       "\\item 1.47462512311358\n",
       "\\item 1.60285339468867\n",
       "\\item 1.73108166626376\n",
       "\\item 1.85930993783886\n",
       "\\item 1.98753820941395\n",
       "\\item 2.11576648098904\n",
       "\\item 2.24399475256414\n",
       "\\item 2.37222302413923\n",
       "\\item 2.50045129571433\n",
       "\\item 2.62867956728942\n",
       "\\item 2.75690783886451\n",
       "\\item 2.88513611043961\n",
       "\\item 3.0133643820147\n",
       "\\item 3.14159265358979\n",
       "\\end{enumerate*}\n"
      ],
      "text/markdown": [
       "1. -3.14159265358979\n",
       "2. -3.0133643820147\n",
       "3. -2.88513611043961\n",
       "4. -2.75690783886451\n",
       "5. -2.62867956728942\n",
       "6. -2.50045129571433\n",
       "7. -2.37222302413923\n",
       "8. -2.24399475256414\n",
       "9. -2.11576648098904\n",
       "10. -1.98753820941395\n",
       "11. -1.85930993783886\n",
       "12. -1.73108166626376\n",
       "13. -1.60285339468867\n",
       "14. -1.47462512311358\n",
       "15. -1.34639685153848\n",
       "16. -1.21816857996339\n",
       "17. -1.0899403083883\n",
       "18. -0.961712036813202\n",
       "19. -0.833483765238109\n",
       "20. -0.705255493663015\n",
       "21. -0.577027222087922\n",
       "22. -0.448798950512828\n",
       "23. -0.320570678937734\n",
       "24. -0.192342407362641\n",
       "25. -0.064114135787547\n",
       "26. 0.0641141357875465\n",
       "27. 0.19234240736264\n",
       "28. 0.320570678937734\n",
       "29. 0.448798950512828\n",
       "30. 0.577027222087921\n",
       "31. 0.705255493663015\n",
       "32. 0.833483765238108\n",
       "33. 0.961712036813202\n",
       "34. 1.0899403083883\n",
       "35. 1.21816857996339\n",
       "36. 1.34639685153848\n",
       "37. 1.47462512311358\n",
       "38. 1.60285339468867\n",
       "39. 1.73108166626376\n",
       "40. 1.85930993783886\n",
       "41. 1.98753820941395\n",
       "42. 2.11576648098904\n",
       "43. 2.24399475256414\n",
       "44. 2.37222302413923\n",
       "45. 2.50045129571433\n",
       "46. 2.62867956728942\n",
       "47. 2.75690783886451\n",
       "48. 2.88513611043961\n",
       "49. 3.0133643820147\n",
       "50. 3.14159265358979\n",
       "\n",
       "\n"
      ],
      "text/plain": [
       " [1] -3.14159265 -3.01336438 -2.88513611 -2.75690784 -2.62867957 -2.50045130\n",
       " [7] -2.37222302 -2.24399475 -2.11576648 -1.98753821 -1.85930994 -1.73108167\n",
       "[13] -1.60285339 -1.47462512 -1.34639685 -1.21816858 -1.08994031 -0.96171204\n",
       "[19] -0.83348377 -0.70525549 -0.57702722 -0.44879895 -0.32057068 -0.19234241\n",
       "[25] -0.06411414  0.06411414  0.19234241  0.32057068  0.44879895  0.57702722\n",
       "[31]  0.70525549  0.83348377  0.96171204  1.08994031  1.21816858  1.34639685\n",
       "[37]  1.47462512  1.60285339  1.73108167  1.85930994  1.98753821  2.11576648\n",
       "[43]  2.24399475  2.37222302  2.50045130  2.62867957  2.75690784  2.88513611\n",
       "[49]  3.01336438  3.14159265"
      ]
     },
     "metadata": {},
     "output_type": "display_data"
    }
   ],
   "source": [
    "x <- seq (1, 10)\n",
    "x\n",
    "x <- 1:10\n",
    "x\n",
    "x <- seq (-pi, pi, length = 50)\n",
    "x"
   ]
  },
  {
   "cell_type": "code",
   "execution_count": 30,
   "id": "8cf4bfcf-1c74-4143-9285-c1b5ae75fdbd",
   "metadata": {},
   "outputs": [
    {
     "data": {
      "image/png": "[encoded data removed]",
      "text/plain": [
       "plot without title"
      ]
     },
     "metadata": {
      "image/png": {
       "height": 420,
       "width": 420
      }
     },
     "output_type": "display_data"
    },
    {
     "data": {
      "image/png": "[encoded data removed]",
      "text/plain": [
       "plot without title"
      ]
     },
     "metadata": {
      "image/png": {
       "height": 420,
       "width": 420
      }
     },
     "output_type": "display_data"
    }
   ],
   "source": [
    "y <- x\n",
    "f <- outer (x, y, function (x, y) cos (y) / (1 + x^2))\n",
    "contour (x, y, f)\n",
    "contour (x, y, f, nlevels = 45, add = T)\n",
    "fa <- (f - t(f)) / 2\n",
    "contour (x, y, fa, nlevels = 15)"
   ]
  },
  {
   "cell_type": "code",
   "execution_count": 31,
   "id": "b4506ef8-4793-41af-9766-ca1fb9012b36",
   "metadata": {},
   "outputs": [
    {
     "data": {
      "image/png": "[encoded data removed]",
      "text/plain": [
       "plot without title"
      ]
     },
     "metadata": {
      "image/png": {
       "height": 420,
       "width": 420
      }
     },
     "output_type": "display_data"
    },
    {
     "data": {
      "image/png": "[encoded data removed]",
      "text/plain": [
       "plot without title"
      ]
     },
     "metadata": {
      "image/png": {
       "height": 420,
       "width": 420
      }
     },
     "output_type": "display_data"
    },
    {
     "data": {
      "image/png": "[encoded data removed]",
      "text/plain": [
       "plot without title"
      ]
     },
     "metadata": {
      "image/png": {
       "height": 420,
       "width": 420
      }
     },
     "output_type": "display_data"
    },
    {
     "data": {
      "image/png": "[encoded data removed]",
      "text/plain": [
       "plot without title"
      ]
     },
     "metadata": {
      "image/png": {
       "height": 420,
       "width": 420
      }
     },
     "output_type": "display_data"
    },
    {
     "data": {
      "image/png": "[encoded data removed]",
      "text/plain": [
       "plot without title"
      ]
     },
     "metadata": {
      "image/png": {
       "height": 420,
       "width": 420
      }
     },
     "output_type": "display_data"
    },
    {
     "data": {
      "image/png": "[encoded data removed]",
      "text/plain": [
       "plot without title"
      ]
     },
     "metadata": {
      "image/png": {
       "height": 420,
       "width": 420
      }
     },
     "output_type": "display_data"
    }
   ],
   "source": [
    "image (x, y, fa)\n",
    "persp (x, y, fa)\n",
    "persp (x, y, fa , theta = 30)\n",
    "persp (x, y, fa , theta = 30, phi = 20)\n",
    "persp (x, y, fa , theta = 30, phi = 70)\n",
    "persp (x, y, fa , theta = 30, phi = 40)"
   ]
  },
  {
   "cell_type": "markdown",
   "id": "997cc8a8-f3b2-41ca-a0d4-2c9ffe4881f5",
   "metadata": {},
   "source": [
    "#### 2.3.3 Indexing Data"
   ]
  },
  {
   "cell_type": "code",
   "execution_count": 32,
   "id": "2587f647-fc2d-40aa-9b0b-66588b1cf4ec",
   "metadata": {},
   "outputs": [
    {
     "data": {
      "text/html": [
       "<table class=\"dataframe\">\n",
       "<caption>A matrix: 4 × 4 of type int</caption>\n",
       "<tbody>\n",
       "\t<tr><td>1</td><td>5</td><td> 9</td><td>13</td></tr>\n",
       "\t<tr><td>2</td><td>6</td><td>10</td><td>14</td></tr>\n",
       "\t<tr><td>3</td><td>7</td><td>11</td><td>15</td></tr>\n",
       "\t<tr><td>4</td><td>8</td><td>12</td><td>16</td></tr>\n",
       "</tbody>\n",
       "</table>\n"
      ],
      "text/latex": [
       "A matrix: 4 × 4 of type int\n",
       "\\begin{tabular}{llll}\n",
       "\t 1 & 5 &  9 & 13\\\\\n",
       "\t 2 & 6 & 10 & 14\\\\\n",
       "\t 3 & 7 & 11 & 15\\\\\n",
       "\t 4 & 8 & 12 & 16\\\\\n",
       "\\end{tabular}\n"
      ],
      "text/markdown": [
       "\n",
       "A matrix: 4 × 4 of type int\n",
       "\n",
       "| 1 | 5 |  9 | 13 |\n",
       "| 2 | 6 | 10 | 14 |\n",
       "| 3 | 7 | 11 | 15 |\n",
       "| 4 | 8 | 12 | 16 |\n",
       "\n"
      ],
      "text/plain": [
       "     [,1] [,2] [,3] [,4]\n",
       "[1,] 1    5     9   13  \n",
       "[2,] 2    6    10   14  \n",
       "[3,] 3    7    11   15  \n",
       "[4,] 4    8    12   16  "
      ]
     },
     "metadata": {},
     "output_type": "display_data"
    }
   ],
   "source": [
    "A <- matrix (1:16, 4, 4)\n",
    "A"
   ]
  },
  {
   "cell_type": "code",
   "execution_count": 33,
   "id": "151e9507-188e-4691-affb-601b9cca0479",
   "metadata": {},
   "outputs": [
    {
     "data": {
      "text/html": [
       "10"
      ],
      "text/latex": [
       "10"
      ],
      "text/markdown": [
       "10"
      ],
      "text/plain": [
       "[1] 10"
      ]
     },
     "metadata": {},
     "output_type": "display_data"
    }
   ],
   "source": [
    "A[2, 3]"
   ]
  },
  {
   "cell_type": "code",
   "execution_count": 34,
   "id": "a1597024-be81-40a8-9067-4a3f0f9c1eff",
   "metadata": {},
   "outputs": [
    {
     "data": {
      "text/html": [
       "<table class=\"dataframe\">\n",
       "<caption>A matrix: 2 × 2 of type int</caption>\n",
       "<tbody>\n",
       "\t<tr><td>5</td><td>13</td></tr>\n",
       "\t<tr><td>7</td><td>15</td></tr>\n",
       "</tbody>\n",
       "</table>\n"
      ],
      "text/latex": [
       "A matrix: 2 × 2 of type int\n",
       "\\begin{tabular}{ll}\n",
       "\t 5 & 13\\\\\n",
       "\t 7 & 15\\\\\n",
       "\\end{tabular}\n"
      ],
      "text/markdown": [
       "\n",
       "A matrix: 2 × 2 of type int\n",
       "\n",
       "| 5 | 13 |\n",
       "| 7 | 15 |\n",
       "\n"
      ],
      "text/plain": [
       "     [,1] [,2]\n",
       "[1,] 5    13  \n",
       "[2,] 7    15  "
      ]
     },
     "metadata": {},
     "output_type": "display_data"
    }
   ],
   "source": [
    "A[c(1, 3), c(2, 4)]"
   ]
  },
  {
   "cell_type": "code",
   "execution_count": 35,
   "id": "7f1e3a24-4ab5-4e36-ad84-84c5384ff27d",
   "metadata": {},
   "outputs": [
    {
     "data": {
      "text/html": [
       "<table class=\"dataframe\">\n",
       "<caption>A matrix: 3 × 3 of type int</caption>\n",
       "<tbody>\n",
       "\t<tr><td>5</td><td> 9</td><td>13</td></tr>\n",
       "\t<tr><td>6</td><td>10</td><td>14</td></tr>\n",
       "\t<tr><td>7</td><td>11</td><td>15</td></tr>\n",
       "</tbody>\n",
       "</table>\n"
      ],
      "text/latex": [
       "A matrix: 3 × 3 of type int\n",
       "\\begin{tabular}{lll}\n",
       "\t 5 &  9 & 13\\\\\n",
       "\t 6 & 10 & 14\\\\\n",
       "\t 7 & 11 & 15\\\\\n",
       "\\end{tabular}\n"
      ],
      "text/markdown": [
       "\n",
       "A matrix: 3 × 3 of type int\n",
       "\n",
       "| 5 |  9 | 13 |\n",
       "| 6 | 10 | 14 |\n",
       "| 7 | 11 | 15 |\n",
       "\n"
      ],
      "text/plain": [
       "     [,1] [,2] [,3]\n",
       "[1,] 5     9   13  \n",
       "[2,] 6    10   14  \n",
       "[3,] 7    11   15  "
      ]
     },
     "metadata": {},
     "output_type": "display_data"
    }
   ],
   "source": [
    "A[1:3, 2:4]"
   ]
  },
  {
   "cell_type": "code",
   "execution_count": 36,
   "id": "72b91fb3-a7d7-4082-ba7c-338d0aa6c941",
   "metadata": {},
   "outputs": [
    {
     "data": {
      "text/html": [
       "<table class=\"dataframe\">\n",
       "<caption>A matrix: 2 × 4 of type int</caption>\n",
       "<tbody>\n",
       "\t<tr><td>1</td><td>5</td><td> 9</td><td>13</td></tr>\n",
       "\t<tr><td>2</td><td>6</td><td>10</td><td>14</td></tr>\n",
       "</tbody>\n",
       "</table>\n"
      ],
      "text/latex": [
       "A matrix: 2 × 4 of type int\n",
       "\\begin{tabular}{llll}\n",
       "\t 1 & 5 &  9 & 13\\\\\n",
       "\t 2 & 6 & 10 & 14\\\\\n",
       "\\end{tabular}\n"
      ],
      "text/markdown": [
       "\n",
       "A matrix: 2 × 4 of type int\n",
       "\n",
       "| 1 | 5 |  9 | 13 |\n",
       "| 2 | 6 | 10 | 14 |\n",
       "\n"
      ],
      "text/plain": [
       "     [,1] [,2] [,3] [,4]\n",
       "[1,] 1    5     9   13  \n",
       "[2,] 2    6    10   14  "
      ]
     },
     "metadata": {},
     "output_type": "display_data"
    }
   ],
   "source": [
    "A[1:2, ]"
   ]
  },
  {
   "cell_type": "code",
   "execution_count": 37,
   "id": "300e2491-ea93-4f8e-b4e6-fe7c8877d0d3",
   "metadata": {},
   "outputs": [
    {
     "data": {
      "text/html": [
       "<table class=\"dataframe\">\n",
       "<caption>A matrix: 4 × 2 of type int</caption>\n",
       "<tbody>\n",
       "\t<tr><td>1</td><td>5</td></tr>\n",
       "\t<tr><td>2</td><td>6</td></tr>\n",
       "\t<tr><td>3</td><td>7</td></tr>\n",
       "\t<tr><td>4</td><td>8</td></tr>\n",
       "</tbody>\n",
       "</table>\n"
      ],
      "text/latex": [
       "A matrix: 4 × 2 of type int\n",
       "\\begin{tabular}{ll}\n",
       "\t 1 & 5\\\\\n",
       "\t 2 & 6\\\\\n",
       "\t 3 & 7\\\\\n",
       "\t 4 & 8\\\\\n",
       "\\end{tabular}\n"
      ],
      "text/markdown": [
       "\n",
       "A matrix: 4 × 2 of type int\n",
       "\n",
       "| 1 | 5 |\n",
       "| 2 | 6 |\n",
       "| 3 | 7 |\n",
       "| 4 | 8 |\n",
       "\n"
      ],
      "text/plain": [
       "     [,1] [,2]\n",
       "[1,] 1    5   \n",
       "[2,] 2    6   \n",
       "[3,] 3    7   \n",
       "[4,] 4    8   "
      ]
     },
     "metadata": {},
     "output_type": "display_data"
    }
   ],
   "source": [
    "A[, 1:2]"
   ]
  },
  {
   "cell_type": "code",
   "execution_count": 38,
   "id": "9fbc26e1-84f9-467d-8353-dfdc69cf06f7",
   "metadata": {},
   "outputs": [
    {
     "data": {
      "text/html": [
       "<style>\n",
       ".list-inline {list-style: none; margin:0; padding: 0}\n",
       ".list-inline>li {display: inline-block}\n",
       ".list-inline>li:not(:last-child)::after {content: \"\\00b7\"; padding: 0 .5ex}\n",
       "</style>\n",
       "<ol class=list-inline><li>1</li><li>5</li><li>9</li><li>13</li></ol>\n"
      ],
      "text/latex": [
       "\\begin{enumerate*}\n",
       "\\item 1\n",
       "\\item 5\n",
       "\\item 9\n",
       "\\item 13\n",
       "\\end{enumerate*}\n"
      ],
      "text/markdown": [
       "1. 1\n",
       "2. 5\n",
       "3. 9\n",
       "4. 13\n",
       "\n",
       "\n"
      ],
      "text/plain": [
       "[1]  1  5  9 13"
      ]
     },
     "metadata": {},
     "output_type": "display_data"
    }
   ],
   "source": [
    "A[1, ]"
   ]
  },
  {
   "cell_type": "code",
   "execution_count": 39,
   "id": "85b2197b-9879-4e10-98fe-d86272690b69",
   "metadata": {},
   "outputs": [
    {
     "data": {
      "text/html": [
       "<table class=\"dataframe\">\n",
       "<caption>A matrix: 2 × 4 of type int</caption>\n",
       "<tbody>\n",
       "\t<tr><td>2</td><td>6</td><td>10</td><td>14</td></tr>\n",
       "\t<tr><td>4</td><td>8</td><td>12</td><td>16</td></tr>\n",
       "</tbody>\n",
       "</table>\n"
      ],
      "text/latex": [
       "A matrix: 2 × 4 of type int\n",
       "\\begin{tabular}{llll}\n",
       "\t 2 & 6 & 10 & 14\\\\\n",
       "\t 4 & 8 & 12 & 16\\\\\n",
       "\\end{tabular}\n"
      ],
      "text/markdown": [
       "\n",
       "A matrix: 2 × 4 of type int\n",
       "\n",
       "| 2 | 6 | 10 | 14 |\n",
       "| 4 | 8 | 12 | 16 |\n",
       "\n"
      ],
      "text/plain": [
       "     [,1] [,2] [,3] [,4]\n",
       "[1,] 2    6    10   14  \n",
       "[2,] 4    8    12   16  "
      ]
     },
     "metadata": {},
     "output_type": "display_data"
    }
   ],
   "source": [
    "A[-c(1, 3), ]"
   ]
  },
  {
   "cell_type": "code",
   "execution_count": 40,
   "id": "b223407e-2e75-4ef3-b81d-7883506ac97d",
   "metadata": {},
   "outputs": [
    {
     "data": {
      "text/html": [
       "<style>\n",
       ".list-inline {list-style: none; margin:0; padding: 0}\n",
       ".list-inline>li {display: inline-block}\n",
       ".list-inline>li:not(:last-child)::after {content: \"\\00b7\"; padding: 0 .5ex}\n",
       "</style>\n",
       "<ol class=list-inline><li>4</li><li>4</li></ol>\n"
      ],
      "text/latex": [
       "\\begin{enumerate*}\n",
       "\\item 4\n",
       "\\item 4\n",
       "\\end{enumerate*}\n"
      ],
      "text/markdown": [
       "1. 4\n",
       "2. 4\n",
       "\n",
       "\n"
      ],
      "text/plain": [
       "[1] 4 4"
      ]
     },
     "metadata": {},
     "output_type": "display_data"
    }
   ],
   "source": [
    "dim (A)"
   ]
  },
  {
   "cell_type": "markdown",
   "id": "495740ef-3c16-43ef-b45d-eb1b91a68ce6",
   "metadata": {},
   "source": [
    "#### 2.3.4 Loading Data"
   ]
  },
  {
   "cell_type": "code",
   "execution_count": 82,
   "id": "5bdb55f0-4014-43ef-bc29-b00a3a0fe090",
   "metadata": {
    "collapsed": true,
    "jupyter": {
     "outputs_hidden": true
    },
    "tags": []
   },
   "outputs": [
    {
     "name": "stderr",
     "output_type": "stream",
     "text": [
      "Warning message in file(file, \"rt\"):\n",
      "\"cannot open file 'Auto.data': No such file or directory\"\n"
     ]
    },
    {
     "ename": "ERROR",
     "evalue": "Error in file(file, \"rt\"): cannot open the connection\n",
     "output_type": "error",
     "traceback": [
      "Error in file(file, \"rt\"): cannot open the connection\nTraceback:\n",
      "1. read.table(\"Auto.data\")",
      "2. file(file, \"rt\")"
     ]
    }
   ],
   "source": [
    "Auto <- read.table(\"Auto.data\")\n",
    "View(Auto)"
   ]
  },
  {
   "cell_type": "code",
   "execution_count": 81,
   "id": "568662e4-49dd-48d3-b73a-b4b35498baca",
   "metadata": {},
   "outputs": [
    {
     "data": {
      "text/html": [
       "<table class=\"dataframe\">\n",
       "<caption>A data.frame: 6 × 9</caption>\n",
       "<thead>\n",
       "\t<tr><th></th><th scope=col>mpg</th><th scope=col>cylinders</th><th scope=col>displacement</th><th scope=col>horsepower</th><th scope=col>weight</th><th scope=col>acceleration</th><th scope=col>year</th><th scope=col>origin</th><th scope=col>name</th></tr>\n",
       "\t<tr><th></th><th scope=col>&lt;dbl&gt;</th><th scope=col>&lt;int&gt;</th><th scope=col>&lt;dbl&gt;</th><th scope=col>&lt;int&gt;</th><th scope=col>&lt;int&gt;</th><th scope=col>&lt;dbl&gt;</th><th scope=col>&lt;int&gt;</th><th scope=col>&lt;int&gt;</th><th scope=col>&lt;fct&gt;</th></tr>\n",
       "</thead>\n",
       "<tbody>\n",
       "\t<tr><th scope=row>1</th><td>18</td><td>8</td><td>307</td><td>130</td><td>3504</td><td>12.0</td><td>70</td><td>1</td><td>chevrolet chevelle malibu</td></tr>\n",
       "\t<tr><th scope=row>2</th><td>15</td><td>8</td><td>350</td><td>165</td><td>3693</td><td>11.5</td><td>70</td><td>1</td><td>buick skylark 320        </td></tr>\n",
       "\t<tr><th scope=row>3</th><td>18</td><td>8</td><td>318</td><td>150</td><td>3436</td><td>11.0</td><td>70</td><td>1</td><td>plymouth satellite       </td></tr>\n",
       "\t<tr><th scope=row>4</th><td>16</td><td>8</td><td>304</td><td>150</td><td>3433</td><td>12.0</td><td>70</td><td>1</td><td>amc rebel sst            </td></tr>\n",
       "\t<tr><th scope=row>5</th><td>17</td><td>8</td><td>302</td><td>140</td><td>3449</td><td>10.5</td><td>70</td><td>1</td><td>ford torino              </td></tr>\n",
       "\t<tr><th scope=row>6</th><td>15</td><td>8</td><td>429</td><td>198</td><td>4341</td><td>10.0</td><td>70</td><td>1</td><td>ford galaxie 500         </td></tr>\n",
       "</tbody>\n",
       "</table>\n"
      ],
      "text/latex": [
       "A data.frame: 6 × 9\n",
       "\\begin{tabular}{r|lllllllll}\n",
       "  & mpg & cylinders & displacement & horsepower & weight & acceleration & year & origin & name\\\\\n",
       "  & <dbl> & <int> & <dbl> & <int> & <int> & <dbl> & <int> & <int> & <fct>\\\\\n",
       "\\hline\n",
       "\t1 & 18 & 8 & 307 & 130 & 3504 & 12.0 & 70 & 1 & chevrolet chevelle malibu\\\\\n",
       "\t2 & 15 & 8 & 350 & 165 & 3693 & 11.5 & 70 & 1 & buick skylark 320        \\\\\n",
       "\t3 & 18 & 8 & 318 & 150 & 3436 & 11.0 & 70 & 1 & plymouth satellite       \\\\\n",
       "\t4 & 16 & 8 & 304 & 150 & 3433 & 12.0 & 70 & 1 & amc rebel sst            \\\\\n",
       "\t5 & 17 & 8 & 302 & 140 & 3449 & 10.5 & 70 & 1 & ford torino              \\\\\n",
       "\t6 & 15 & 8 & 429 & 198 & 4341 & 10.0 & 70 & 1 & ford galaxie 500         \\\\\n",
       "\\end{tabular}\n"
      ],
      "text/markdown": [
       "\n",
       "A data.frame: 6 × 9\n",
       "\n",
       "| <!--/--> | mpg &lt;dbl&gt; | cylinders &lt;int&gt; | displacement &lt;dbl&gt; | horsepower &lt;int&gt; | weight &lt;int&gt; | acceleration &lt;dbl&gt; | year &lt;int&gt; | origin &lt;int&gt; | name &lt;fct&gt; |\n",
       "|---|---|---|---|---|---|---|---|---|---|\n",
       "| 1 | 18 | 8 | 307 | 130 | 3504 | 12.0 | 70 | 1 | chevrolet chevelle malibu |\n",
       "| 2 | 15 | 8 | 350 | 165 | 3693 | 11.5 | 70 | 1 | buick skylark 320         |\n",
       "| 3 | 18 | 8 | 318 | 150 | 3436 | 11.0 | 70 | 1 | plymouth satellite        |\n",
       "| 4 | 16 | 8 | 304 | 150 | 3433 | 12.0 | 70 | 1 | amc rebel sst             |\n",
       "| 5 | 17 | 8 | 302 | 140 | 3449 | 10.5 | 70 | 1 | ford torino               |\n",
       "| 6 | 15 | 8 | 429 | 198 | 4341 | 10.0 | 70 | 1 | ford galaxie 500          |\n",
       "\n"
      ],
      "text/plain": [
       "  mpg cylinders displacement horsepower weight acceleration year origin\n",
       "1 18  8         307          130        3504   12.0         70   1     \n",
       "2 15  8         350          165        3693   11.5         70   1     \n",
       "3 18  8         318          150        3436   11.0         70   1     \n",
       "4 16  8         304          150        3433   12.0         70   1     \n",
       "5 17  8         302          140        3449   10.5         70   1     \n",
       "6 15  8         429          198        4341   10.0         70   1     \n",
       "  name                     \n",
       "1 chevrolet chevelle malibu\n",
       "2 buick skylark 320        \n",
       "3 plymouth satellite       \n",
       "4 amc rebel sst            \n",
       "5 ford torino              \n",
       "6 ford galaxie 500         "
      ]
     },
     "metadata": {},
     "output_type": "display_data"
    },
    {
     "data": {
      "text/html": [
       "<style>\n",
       ".list-inline {list-style: none; margin:0; padding: 0}\n",
       ".list-inline>li {display: inline-block}\n",
       ".list-inline>li:not(:last-child)::after {content: \"\\00b7\"; padding: 0 .5ex}\n",
       "</style>\n",
       "<ol class=list-inline><li>397</li><li>9</li></ol>\n"
      ],
      "text/latex": [
       "\\begin{enumerate*}\n",
       "\\item 397\n",
       "\\item 9\n",
       "\\end{enumerate*}\n"
      ],
      "text/markdown": [
       "1. 397\n",
       "2. 9\n",
       "\n",
       "\n"
      ],
      "text/plain": [
       "[1] 397   9"
      ]
     },
     "metadata": {},
     "output_type": "display_data"
    }
   ],
   "source": [
    "Auto <- read.csv(\"Auto.csv\", na.strings = \"?\",stringsAsFactors = T)\n",
    "head(Auto)\n",
    "dim(Auto)\n",
    "\n"
   ]
  },
  {
   "cell_type": "code",
   "execution_count": 62,
   "id": "4ecefe03-24dd-4e86-a7c3-a38332b65ea9",
   "metadata": {
    "collapsed": true,
    "jupyter": {
     "outputs_hidden": true
    },
    "tags": []
   },
   "outputs": [
    {
     "ename": "ERROR",
     "evalue": "Error in parse(text = x, srcfile = src): <text>:1:14: unexpected symbol\n1: Auto <- read .\n                 ^\n",
     "output_type": "error",
     "traceback": [
      "Error in parse(text = x, srcfile = src): <text>:1:14: unexpected symbol\n1: Auto <- read .\n                 ^\nTraceback:\n"
     ]
    }
   ],
   "source": [
    "Auto <- read . table (\" Auto . data \", header = T, na.strings = \"?\", stringsAsFactors = T)\n",
    "View(Auto)"
   ]
  },
  {
   "cell_type": "code",
   "execution_count": 63,
   "id": "9141fa7b-ca54-4715-89fb-a3fa81e9cd18",
   "metadata": {
    "collapsed": true,
    "jupyter": {
     "outputs_hidden": true
    },
    "tags": []
   },
   "outputs": [
    {
     "ename": "ERROR",
     "evalue": "Error in parse(text = x, srcfile = src): <text>:1:14: unexpected symbol\n1: Auto <- read .\n                 ^\n",
     "output_type": "error",
     "traceback": [
      "Error in parse(text = x, srcfile = src): <text>:1:14: unexpected symbol\n1: Auto <- read .\n                 ^\nTraceback:\n"
     ]
    }
   ],
   "source": [
    "Auto <- read . csv (\" Auto . csv \", na.strings = \"?\", stringsAsFactors = T)\n",
    "\n",
    "View (Auto)"
   ]
  },
  {
   "cell_type": "code",
   "execution_count": 64,
   "id": "3d8f71df-cbbd-422b-959a-e8fd583ef973",
   "metadata": {},
   "outputs": [
    {
     "data": {
      "text/html": [
       "<style>\n",
       ".list-inline {list-style: none; margin:0; padding: 0}\n",
       ".list-inline>li {display: inline-block}\n",
       ".list-inline>li:not(:last-child)::after {content: \"\\00b7\"; padding: 0 .5ex}\n",
       "</style>\n",
       "<ol class=list-inline><li>53629</li><li>10</li></ol>\n"
      ],
      "text/latex": [
       "\\begin{enumerate*}\n",
       "\\item 53629\n",
       "\\item 10\n",
       "\\end{enumerate*}\n"
      ],
      "text/markdown": [
       "1. 53629\n",
       "2. 10\n",
       "\n",
       "\n"
      ],
      "text/plain": [
       "[1] 53629    10"
      ]
     },
     "metadata": {},
     "output_type": "display_data"
    }
   ],
   "source": [
    "dim (Auto)"
   ]
  },
  {
   "cell_type": "code",
   "execution_count": 65,
   "id": "fa8a3807-f1ec-4275-a963-758d4a2f24d3",
   "metadata": {
    "collapsed": true,
    "jupyter": {
     "outputs_hidden": true
    },
    "tags": []
   },
   "outputs": [
    {
     "ename": "ERROR",
     "evalue": "Error in parse(text = x, srcfile = src): <text>:1:13: unexpected symbol\n1: Auto <- na. omit\n                ^\n",
     "output_type": "error",
     "traceback": [
      "Error in parse(text = x, srcfile = src): <text>:1:13: unexpected symbol\n1: Auto <- na. omit\n                ^\nTraceback:\n"
     ]
    }
   ],
   "source": [
    "Auto <- na. omit (Auto)\n",
    "dim (Auto)"
   ]
  },
  {
   "cell_type": "code",
   "execution_count": 66,
   "id": "3dd75d1f-e2f8-4e9d-a902-4744312cabbd",
   "metadata": {},
   "outputs": [
    {
     "data": {
      "text/html": [
       "<style>\n",
       ".list-inline {list-style: none; margin:0; padding: 0}\n",
       ".list-inline>li {display: inline-block}\n",
       ".list-inline>li:not(:last-child)::after {content: \"\\00b7\"; padding: 0 .5ex}\n",
       "</style>\n",
       "<ol class=list-inline><li>'Date.Day'</li><li>'Date.Month'</li><li>'Date.Year'</li><li>'Data.Cases'</li><li>'Data.Deaths'</li><li>'Location.Country'</li><li>'Location.Code'</li><li>'Data.Population'</li><li>'Location.Continent'</li><li>'Data.Rate'</li></ol>\n"
      ],
      "text/latex": [
       "\\begin{enumerate*}\n",
       "\\item 'Date.Day'\n",
       "\\item 'Date.Month'\n",
       "\\item 'Date.Year'\n",
       "\\item 'Data.Cases'\n",
       "\\item 'Data.Deaths'\n",
       "\\item 'Location.Country'\n",
       "\\item 'Location.Code'\n",
       "\\item 'Data.Population'\n",
       "\\item 'Location.Continent'\n",
       "\\item 'Data.Rate'\n",
       "\\end{enumerate*}\n"
      ],
      "text/markdown": [
       "1. 'Date.Day'\n",
       "2. 'Date.Month'\n",
       "3. 'Date.Year'\n",
       "4. 'Data.Cases'\n",
       "5. 'Data.Deaths'\n",
       "6. 'Location.Country'\n",
       "7. 'Location.Code'\n",
       "8. 'Data.Population'\n",
       "9. 'Location.Continent'\n",
       "10. 'Data.Rate'\n",
       "\n",
       "\n"
      ],
      "text/plain": [
       " [1] \"Date.Day\"           \"Date.Month\"         \"Date.Year\"         \n",
       " [4] \"Data.Cases\"         \"Data.Deaths\"        \"Location.Country\"  \n",
       " [7] \"Location.Code\"      \"Data.Population\"    \"Location.Continent\"\n",
       "[10] \"Data.Rate\"         "
      ]
     },
     "metadata": {},
     "output_type": "display_data"
    }
   ],
   "source": [
    "names (Auto)"
   ]
  },
  {
   "cell_type": "markdown",
   "id": "e5fd9653-40b5-4ec2-895c-8e76d7725729",
   "metadata": {},
   "source": [
    "#### 2.3.5 Additional Graphical and Numerical Summaries"
   ]
  },
  {
   "cell_type": "code",
   "execution_count": 67,
   "id": "06571b8c-dc28-4248-8219-4f0e50d3013e",
   "metadata": {},
   "outputs": [
    {
     "data": {
      "image/png": "[encoded data removed]",
      "text/plain": [
       "plot without title"
      ]
     },
     "metadata": {
      "image/png": {
       "height": 420,
       "width": 420
      }
     },
     "output_type": "display_data"
    }
   ],
   "source": [
    "plot (cylinders , mpg)"
   ]
  },
  {
   "cell_type": "code",
   "execution_count": 69,
   "id": "0ac8b54d-e65c-411c-8f2a-5d51a311669c",
   "metadata": {
    "collapsed": true,
    "jupyter": {
     "outputs_hidden": true
    },
    "tags": []
   },
   "outputs": [
    {
     "name": "stderr",
     "output_type": "stream",
     "text": [
      "Warning message in min(x):\n",
      "\"no non-missing arguments to min; returning Inf\"\n",
      "Warning message in max(x):\n",
      "\"no non-missing arguments to max; returning -Inf\"\n",
      "Warning message in min(x):\n",
      "\"no non-missing arguments to min; returning Inf\"\n",
      "Warning message in max(x):\n",
      "\"no non-missing arguments to max; returning -Inf\"\n"
     ]
    },
    {
     "ename": "ERROR",
     "evalue": "Error in plot.window(...): need finite 'xlim' values\n",
     "output_type": "error",
     "traceback": [
      "Error in plot.window(...): need finite 'xlim' values\nTraceback:\n",
      "1. plot(Auto$cylinders, Auto$mpg)",
      "2. plot.default(Auto$cylinders, Auto$mpg)",
      "3. localWindow(xlim, ylim, log, asp, ...)",
      "4. plot.window(...)"
     ]
    },
    {
     "data": {
      "image/png": "[encoded data removed]",
      "text/plain": [
       "plot without title"
      ]
     },
     "metadata": {
      "image/png": {
       "height": 420,
       "width": 420
      }
     },
     "output_type": "display_data"
    }
   ],
   "source": [
    "plot (Auto$cylinders , Auto$mpg)\n",
    "attach (Auto)\n",
    "plot (cylinders , mpg)"
   ]
  },
  {
   "cell_type": "code",
   "execution_count": 70,
   "id": "44bbaac6-44ac-4372-9502-d6c93a26378f",
   "metadata": {},
   "outputs": [
    {
     "ename": "ERROR",
     "evalue": "Error in parse(text = x, srcfile = src): <text>:1:18: unexpected symbol\n1: cylinders <- as. factor\n                     ^\n",
     "output_type": "error",
     "traceback": [
      "Error in parse(text = x, srcfile = src): <text>:1:18: unexpected symbol\n1: cylinders <- as. factor\n                     ^\nTraceback:\n"
     ]
    }
   ],
   "source": [
    "cylinders <- as. factor (cylinders)"
   ]
  },
  {
   "cell_type": "code",
   "execution_count": 71,
   "id": "5d020a6c-71ee-481e-b4c8-3ccb7fd1467e",
   "metadata": {},
   "outputs": [
    {
     "data": {
      "image/png": "[encoded data removed]",
      "text/plain": [
       "plot without title"
      ]
     },
     "metadata": {
      "image/png": {
       "height": 420,
       "width": 420
      }
     },
     "output_type": "display_data"
    },
    {
     "name": "stderr",
     "output_type": "stream",
     "text": [
      "Warning message in plot.window(...):\n",
      "\"\"varwidth\" is not a graphical parameter\"\n",
      "Warning message in plot.xy(xy, type, ...):\n",
      "\"\"varwidth\" is not a graphical parameter\"\n",
      "Warning message in axis(side = side, at = at, labels = labels, ...):\n",
      "\"\"varwidth\" is not a graphical parameter\"\n",
      "Warning message in axis(side = side, at = at, labels = labels, ...):\n",
      "\"\"varwidth\" is not a graphical parameter\"\n",
      "Warning message in box(...):\n",
      "\"\"varwidth\" is not a graphical parameter\"\n",
      "Warning message in title(...):\n",
      "\"\"varwidth\" is not a graphical parameter\"\n"
     ]
    },
    {
     "data": {
      "image/png": "[encoded data removed]",
      "text/plain": [
       "plot without title"
      ]
     },
     "metadata": {
      "image/png": {
       "height": 420,
       "width": 420
      }
     },
     "output_type": "display_data"
    },
    {
     "data": {
      "image/png": "[encoded data removed]",
      "text/plain": [
       "plot without title"
      ]
     },
     "metadata": {
      "image/png": {
       "height": 420,
       "width": 420
      }
     },
     "output_type": "display_data"
    }
   ],
   "source": [
    "plot (cylinders , mpg)\n",
    "plot (cylinders , mpg , col = \" red \")\n",
    "plot (cylinders , mpg , col = \" red \", varwidth = T)"
   ]
  },
  {
   "cell_type": "code",
   "execution_count": 73,
   "id": "1e2eb5f2-465d-45d0-a6e2-78a7c93bd27c",
   "metadata": {},
   "outputs": [
    {
     "name": "stderr",
     "output_type": "stream",
     "text": [
      "Warning message in plot.window(...):\n",
      "\"\"varwidth\" is not a graphical parameter\"\n",
      "Warning message in plot.window(...):\n",
      "\"\"horizontal\" is not a graphical parameter\"\n",
      "Warning message in plot.xy(xy, type, ...):\n",
      "\"\"varwidth\" is not a graphical parameter\"\n",
      "Warning message in plot.xy(xy, type, ...):\n",
      "\"\"horizontal\" is not a graphical parameter\"\n",
      "Warning message in axis(side = side, at = at, labels = labels, ...):\n",
      "\"\"varwidth\" is not a graphical parameter\"\n",
      "Warning message in axis(side = side, at = at, labels = labels, ...):\n",
      "\"\"horizontal\" is not a graphical parameter\"\n",
      "Warning message in axis(side = side, at = at, labels = labels, ...):\n",
      "\"\"varwidth\" is not a graphical parameter\"\n",
      "Warning message in axis(side = side, at = at, labels = labels, ...):\n",
      "\"\"horizontal\" is not a graphical parameter\"\n",
      "Warning message in box(...):\n",
      "\"\"varwidth\" is not a graphical parameter\"\n",
      "Warning message in box(...):\n",
      "\"\"horizontal\" is not a graphical parameter\"\n",
      "Warning message in title(...):\n",
      "\"\"varwidth\" is not a graphical parameter\"\n",
      "Warning message in title(...):\n",
      "\"\"horizontal\" is not a graphical parameter\"\n",
      "Warning message in plot.window(...):\n",
      "\"\"varwidth\" is not a graphical parameter\"\n",
      "Warning message in plot.xy(xy, type, ...):\n",
      "\"\"varwidth\" is not a graphical parameter\"\n",
      "Warning message in axis(side = side, at = at, labels = labels, ...):\n",
      "\"\"varwidth\" is not a graphical parameter\"\n",
      "Warning message in axis(side = side, at = at, labels = labels, ...):\n",
      "\"\"varwidth\" is not a graphical parameter\"\n",
      "Warning message in box(...):\n",
      "\"\"varwidth\" is not a graphical parameter\"\n",
      "Warning message in title(...):\n",
      "\"\"varwidth\" is not a graphical parameter\"\n"
     ]
    },
    {
     "data": {
      "image/png": "[encoded data removed]",
      "text/plain": [
       "plot without title"
      ]
     },
     "metadata": {
      "image/png": {
       "height": 420,
       "width": 420
      }
     },
     "output_type": "display_data"
    },
    {
     "data": {
      "image/png": "[encoded data removed]",
      "text/plain": [
       "plot without title"
      ]
     },
     "metadata": {
      "image/png": {
       "height": 420,
       "width": 420
      }
     },
     "output_type": "display_data"
    }
   ],
   "source": [
    "plot (cylinders , mpg , col = \" red \", varwidth = T,\n",
    "horizontal = T)\n",
    "\n",
    "plot (cylinders , mpg , col = \" red \", varwidth = T,\n",
    "xlab = \" cylinders \", ylab = \" MPG \")"
   ]
  },
  {
   "cell_type": "code",
   "execution_count": 74,
   "id": "0db3b3ae-f6a3-4a5b-990b-c13a9cf6ab3a",
   "metadata": {},
   "outputs": [
    {
     "data": {
      "image/png": "[encoded data removed]",
      "text/plain": [
       "Plot with title \"Histogram of mpg\""
      ]
     },
     "metadata": {
      "image/png": {
       "height": 420,
       "width": 420
      }
     },
     "output_type": "display_data"
    },
    {
     "data": {
      "image/png": "[encoded data removed]",
      "text/plain": [
       "Plot with title \"Histogram of mpg\""
      ]
     },
     "metadata": {
      "image/png": {
       "height": 420,
       "width": 420
      }
     },
     "output_type": "display_data"
    },
    {
     "data": {
      "image/png": "[encoded data removed]",
      "text/plain": [
       "Plot with title \"Histogram of mpg\""
      ]
     },
     "metadata": {
      "image/png": {
       "height": 420,
       "width": 420
      }
     },
     "output_type": "display_data"
    }
   ],
   "source": [
    "hist (mpg)\n",
    "hist (mpg , col = 2)\n",
    "hist (mpg , col = 2, breaks = 15)"
   ]
  },
  {
   "cell_type": "code",
   "execution_count": 78,
   "id": "96d7eebd-f859-4432-a28c-004ca44162a5",
   "metadata": {},
   "outputs": [
    {
     "data": {
      "image/png": "[encoded data removed]",
      "text/plain": [
       "plot without title"
      ]
     },
     "metadata": {
      "image/png": {
       "height": 420,
       "width": 420
      }
     },
     "output_type": "display_data"
    },
    {
     "data": {
      "image/png": "[encoded data removed]",
      "text/plain": [
       "plot without title"
      ]
     },
     "metadata": {
      "image/png": {
       "height": 420,
       "width": 420
      }
     },
     "output_type": "display_data"
    }
   ],
   "source": [
    "pairs (Auto)\n",
    "pairs (\n",
    "    ∼ mpg + displacement + horsepower + weight + acceleration ,\n",
    "data = Auto\n",
    "    )"
   ]
  },
  {
   "cell_type": "code",
   "execution_count": 77,
   "id": "98905e63-c50e-4704-9109-27b2147be410",
   "metadata": {},
   "outputs": [
    {
     "data": {
      "text/html": [],
      "text/latex": [],
      "text/markdown": [],
      "text/plain": [
       "integer(0)"
      ]
     },
     "metadata": {},
     "output_type": "display_data"
    },
    {
     "data": {
      "image/png": "[encoded data removed]",
      "text/plain": [
       "plot without title"
      ]
     },
     "metadata": {
      "image/png": {
       "height": 420,
       "width": 420
      }
     },
     "output_type": "display_data"
    }
   ],
   "source": [
    "plot (horsepower , mpg)\n",
    "identify (horsepower , mpg , name)"
   ]
  },
  {
   "cell_type": "code",
   "execution_count": 79,
   "id": "f495e2c7-30c1-42d0-86ab-87e2c392ccc0",
   "metadata": {},
   "outputs": [
    {
     "data": {
      "text/plain": [
       "    Date.Day       Date.Month       Date.Year      Data.Cases      \n",
       " Min.   : 1.00   Min.   : 1.000   Min.   :2019   Min.   : -8261.0  \n",
       " 1st Qu.: 8.00   1st Qu.: 4.000   1st Qu.:2020   1st Qu.:     0.0  \n",
       " Median :16.00   Median : 7.000   Median :2020   Median :    13.0  \n",
       " Mean   :15.85   Mean   : 6.407   Mean   :2020   Mean   :   898.4  \n",
       " 3rd Qu.:24.00   3rd Qu.: 9.000   3rd Qu.:2020   3rd Qu.:   206.0  \n",
       " Max.   :31.00   Max.   :12.000   Max.   :2020   Max.   :102507.0  \n",
       "                                                                   \n",
       "  Data.Deaths          Location.Country Location.Code   Data.Population     \n",
       " Min.   :-1918.00   Afghanistan:  340   AFG    :  340   Min.   :        -1  \n",
       " 1st Qu.:    0.00   Australia  :  311   AUS    :  311   1st Qu.:   1324820  \n",
       " Median :    0.00   Austria    :  311   AUT    :  311   Median :   7813207  \n",
       " Mean   :   22.87   Belgium    :  311   BEL    :  311   Mean   :  41645789  \n",
       " 3rd Qu.:    3.00   Brazil     :  311   BRA    :  311   3rd Qu.:  28608715  \n",
       " Max.   : 4928.00   Canada     :  311   CAN    :  311   Max.   :1433783692  \n",
       "                    (Other)    :51734   (Other):51734                       \n",
       " Location.Continent   Data.Rate        \n",
       " Africa :12836      Min.   :-147.4196  \n",
       " America:11823      1st Qu.:   0.2692  \n",
       " Asia   :11879      Median :   4.6528  \n",
       " Europe :14990      Mean   :  44.3829  \n",
       " Oceania: 2037      3rd Qu.:  34.9054  \n",
       " Other  :   64      Max.   :1900.8362  \n",
       "                                       "
      ]
     },
     "metadata": {},
     "output_type": "display_data"
    }
   ],
   "source": [
    "summary (Auto)"
   ]
  },
  {
   "cell_type": "code",
   "execution_count": 80,
   "id": "b16881ae-2464-415a-8155-dbe861b9f5e0",
   "metadata": {},
   "outputs": [
    {
     "data": {
      "text/plain": [
       "   Min. 1st Qu.  Median    Mean 3rd Qu.    Max. \n",
       "   9.00   17.00   22.75   23.45   29.00   46.60 "
      ]
     },
     "metadata": {},
     "output_type": "display_data"
    }
   ],
   "source": [
    "summary (mpg)"
   ]
  },
  {
   "cell_type": "code",
   "execution_count": null,
   "id": "a9d491c1-9512-4d86-bebe-bd7651df5f11",
   "metadata": {},
   "outputs": [],
   "source": []
  },
  {
   "cell_type": "code",
   "execution_count": null,
   "id": "eeba083a-9170-4201-8dfe-ae76baa73729",
   "metadata": {},
   "outputs": [],
   "source": []
  },
  {
   "cell_type": "code",
   "execution_count": null,
   "id": "8943c7f8-c2ac-4b01-97b3-3f321eb226eb",
   "metadata": {},
   "outputs": [],
   "source": []
  },
  {
   "cell_type": "code",
   "execution_count": null,
   "id": "79889349-1a42-48fa-ab89-78d368f90ca8",
   "metadata": {},
   "outputs": [],
   "source": []
  }
 ],
 "metadata": {
  "kernelspec": {
   "display_name": "R",
   "language": "R",
   "name": "ir"
  },
  "language_info": {
   "codemirror_mode": "r",
   "file_extension": ".r",
   "mimetype": "text/x-r-source",
   "name": "R",
   "pygments_lexer": "r",
   "version": "4.1.2"
  }
 },
 "nbformat": 4,
 "nbformat_minor": 5
}
